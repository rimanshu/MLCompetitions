{
  "cells": [
    {
      "metadata": {
        "_cell_guid": "b1076dfc-b9ad-4769-8c92-a6c4dae69d19",
        "_uuid": "8f2839f25d086af736a60e9eeb907d3b93b6e0e5",
        "trusted": true
      },
      "cell_type": "code",
      "source": "# This Python 3 environment comes with many helpful analytics libraries installed\n# It is defined by the kaggle/python docker image: https://github.com/kaggle/docker-python\n# For example, here's several helpful packages to load in \n\nimport pandas as pd\nimport numpy as np\nimport random as rnd\n\n# visualization\nimport seaborn as sns\nimport matplotlib.pyplot as plt\n%matplotlib inline\n\n# machine learning\nfrom sklearn.linear_model import LogisticRegression\nfrom sklearn.svm import SVC, LinearSVC\nfrom sklearn.ensemble import RandomForestClassifier\nfrom sklearn.neighbors import KNeighborsClassifier\nfrom sklearn.naive_bayes import GaussianNB\nfrom sklearn.linear_model import Perceptron\nfrom sklearn.linear_model import SGDClassifier\nfrom sklearn.tree import DecisionTreeClassifier\n# Input data files are available in the \"../input/\" directory.\n# For example, running this (by clicking run or pressing Shift+Enter) will list the files in the input directory\n\nimport os\nprint(os.listdir(\"../input\"))\n\n# Any results you write to the current directory are saved as output.",
      "execution_count": 121,
      "outputs": [
        {
          "output_type": "stream",
          "text": "['train.csv', 'test.csv']\n",
          "name": "stdout"
        }
      ]
    },
    {
      "metadata": {
        "collapsed": true,
        "_uuid": "d629ff2d2480ee46fbb7e2d37f6b5fab8052498a",
        "_cell_guid": "79c7e3d0-c299-4dcb-8224-4455121ee9b0",
        "trusted": true
      },
      "cell_type": "code",
      "source": "train_df = pd.read_csv('../input/train.csv')\ntest_df = pd.read_csv('../input/test.csv')\ncombine = [train_df, test_df]",
      "execution_count": 122,
      "outputs": []
    },
    {
      "metadata": {
        "_cell_guid": "a9b687c5-21c2-4c3d-9ade-b348e531d54b",
        "_uuid": "702c2a5fae4fc5c56a0240985140d4df01e4e58f",
        "trusted": true
      },
      "cell_type": "code",
      "source": "print(train_df.columns.values)",
      "execution_count": 123,
      "outputs": [
        {
          "output_type": "stream",
          "text": "['id' 'A' 'B' 'C' 'D' 'E' 'F' 'G' 'H' 'I' 'J' 'K' 'L' 'M' 'N' 'O' 'P']\n",
          "name": "stdout"
        }
      ]
    },
    {
      "metadata": {
        "_cell_guid": "0aabd023-f224-4cfe-8903-34f218558420",
        "_uuid": "d03d4483495de803b351cf5349dd6a2281c0fb58",
        "trusted": true
      },
      "cell_type": "code",
      "source": "train_df.head()",
      "execution_count": 124,
      "outputs": [
        {
          "output_type": "execute_result",
          "execution_count": 124,
          "data": {
            "text/plain": "   id  A      B       C  D  E   F  G      H  I  J   K  L  M      N    O  P\n0   1  b  18.42  10.415  y  p  aa  v  0.125  t  f   0  f  g  120.0  375  1\n1   2  a  21.75  11.750  u  g   c  v  0.250  f  f   0  t  g  180.0    0  1\n2   3  b  30.17   1.085  y  p   c  v  0.040  f  f   0  f  g  170.0  179  1\n3   4  b  22.67   2.540  y  p   c  h  2.585  t  f   0  f  g    0.0    0  0\n4   5  a  36.00   1.000  u  g   c  v  2.000  t  t  11  f  g    0.0  456  0",
            "text/html": "<div>\n<style scoped>\n    .dataframe tbody tr th:only-of-type {\n        vertical-align: middle;\n    }\n\n    .dataframe tbody tr th {\n        vertical-align: top;\n    }\n\n    .dataframe thead th {\n        text-align: right;\n    }\n</style>\n<table border=\"1\" class=\"dataframe\">\n  <thead>\n    <tr style=\"text-align: right;\">\n      <th></th>\n      <th>id</th>\n      <th>A</th>\n      <th>B</th>\n      <th>C</th>\n      <th>D</th>\n      <th>E</th>\n      <th>F</th>\n      <th>G</th>\n      <th>H</th>\n      <th>I</th>\n      <th>J</th>\n      <th>K</th>\n      <th>L</th>\n      <th>M</th>\n      <th>N</th>\n      <th>O</th>\n      <th>P</th>\n    </tr>\n  </thead>\n  <tbody>\n    <tr>\n      <th>0</th>\n      <td>1</td>\n      <td>b</td>\n      <td>18.42</td>\n      <td>10.415</td>\n      <td>y</td>\n      <td>p</td>\n      <td>aa</td>\n      <td>v</td>\n      <td>0.125</td>\n      <td>t</td>\n      <td>f</td>\n      <td>0</td>\n      <td>f</td>\n      <td>g</td>\n      <td>120.0</td>\n      <td>375</td>\n      <td>1</td>\n    </tr>\n    <tr>\n      <th>1</th>\n      <td>2</td>\n      <td>a</td>\n      <td>21.75</td>\n      <td>11.750</td>\n      <td>u</td>\n      <td>g</td>\n      <td>c</td>\n      <td>v</td>\n      <td>0.250</td>\n      <td>f</td>\n      <td>f</td>\n      <td>0</td>\n      <td>t</td>\n      <td>g</td>\n      <td>180.0</td>\n      <td>0</td>\n      <td>1</td>\n    </tr>\n    <tr>\n      <th>2</th>\n      <td>3</td>\n      <td>b</td>\n      <td>30.17</td>\n      <td>1.085</td>\n      <td>y</td>\n      <td>p</td>\n      <td>c</td>\n      <td>v</td>\n      <td>0.040</td>\n      <td>f</td>\n      <td>f</td>\n      <td>0</td>\n      <td>f</td>\n      <td>g</td>\n      <td>170.0</td>\n      <td>179</td>\n      <td>1</td>\n    </tr>\n    <tr>\n      <th>3</th>\n      <td>4</td>\n      <td>b</td>\n      <td>22.67</td>\n      <td>2.540</td>\n      <td>y</td>\n      <td>p</td>\n      <td>c</td>\n      <td>h</td>\n      <td>2.585</td>\n      <td>t</td>\n      <td>f</td>\n      <td>0</td>\n      <td>f</td>\n      <td>g</td>\n      <td>0.0</td>\n      <td>0</td>\n      <td>0</td>\n    </tr>\n    <tr>\n      <th>4</th>\n      <td>5</td>\n      <td>a</td>\n      <td>36.00</td>\n      <td>1.000</td>\n      <td>u</td>\n      <td>g</td>\n      <td>c</td>\n      <td>v</td>\n      <td>2.000</td>\n      <td>t</td>\n      <td>t</td>\n      <td>11</td>\n      <td>f</td>\n      <td>g</td>\n      <td>0.0</td>\n      <td>456</td>\n      <td>0</td>\n    </tr>\n  </tbody>\n</table>\n</div>"
          },
          "metadata": {}
        }
      ]
    },
    {
      "metadata": {
        "_cell_guid": "ec37763e-028e-4b7e-8704-f8190b35307b",
        "_uuid": "1182af03673dcca6efad1d88d016bbd088477b7c",
        "trusted": true
      },
      "cell_type": "code",
      "source": "train_df.tail()",
      "execution_count": 125,
      "outputs": [
        {
          "output_type": "execute_result",
          "execution_count": 125,
          "data": {
            "text/plain": "      id  A      B      C  D  E  F   G     H  I  J   K  L  M      N     O  P\n547  548  b  43.25  3.000  u  g  q   h  6.00  t  t  11  f  g   80.0     0  0\n548  549  b  33.17  1.000  u  g  x   v  0.75  t  t   7  t  g  340.0  4071  0\n549  550  a  41.33  1.000  u  g  i  bb  2.25  t  f   0  t  g    0.0   300  0\n550  551  a  30.42  1.375  u  g  w   h  0.04  f  t   3  f  g    0.0    33  1\n551  552  b  47.17  5.835  u  g  w   v  5.50  f  f   0  f  g  465.0   150  1",
            "text/html": "<div>\n<style scoped>\n    .dataframe tbody tr th:only-of-type {\n        vertical-align: middle;\n    }\n\n    .dataframe tbody tr th {\n        vertical-align: top;\n    }\n\n    .dataframe thead th {\n        text-align: right;\n    }\n</style>\n<table border=\"1\" class=\"dataframe\">\n  <thead>\n    <tr style=\"text-align: right;\">\n      <th></th>\n      <th>id</th>\n      <th>A</th>\n      <th>B</th>\n      <th>C</th>\n      <th>D</th>\n      <th>E</th>\n      <th>F</th>\n      <th>G</th>\n      <th>H</th>\n      <th>I</th>\n      <th>J</th>\n      <th>K</th>\n      <th>L</th>\n      <th>M</th>\n      <th>N</th>\n      <th>O</th>\n      <th>P</th>\n    </tr>\n  </thead>\n  <tbody>\n    <tr>\n      <th>547</th>\n      <td>548</td>\n      <td>b</td>\n      <td>43.25</td>\n      <td>3.000</td>\n      <td>u</td>\n      <td>g</td>\n      <td>q</td>\n      <td>h</td>\n      <td>6.00</td>\n      <td>t</td>\n      <td>t</td>\n      <td>11</td>\n      <td>f</td>\n      <td>g</td>\n      <td>80.0</td>\n      <td>0</td>\n      <td>0</td>\n    </tr>\n    <tr>\n      <th>548</th>\n      <td>549</td>\n      <td>b</td>\n      <td>33.17</td>\n      <td>1.000</td>\n      <td>u</td>\n      <td>g</td>\n      <td>x</td>\n      <td>v</td>\n      <td>0.75</td>\n      <td>t</td>\n      <td>t</td>\n      <td>7</td>\n      <td>t</td>\n      <td>g</td>\n      <td>340.0</td>\n      <td>4071</td>\n      <td>0</td>\n    </tr>\n    <tr>\n      <th>549</th>\n      <td>550</td>\n      <td>a</td>\n      <td>41.33</td>\n      <td>1.000</td>\n      <td>u</td>\n      <td>g</td>\n      <td>i</td>\n      <td>bb</td>\n      <td>2.25</td>\n      <td>t</td>\n      <td>f</td>\n      <td>0</td>\n      <td>t</td>\n      <td>g</td>\n      <td>0.0</td>\n      <td>300</td>\n      <td>0</td>\n    </tr>\n    <tr>\n      <th>550</th>\n      <td>551</td>\n      <td>a</td>\n      <td>30.42</td>\n      <td>1.375</td>\n      <td>u</td>\n      <td>g</td>\n      <td>w</td>\n      <td>h</td>\n      <td>0.04</td>\n      <td>f</td>\n      <td>t</td>\n      <td>3</td>\n      <td>f</td>\n      <td>g</td>\n      <td>0.0</td>\n      <td>33</td>\n      <td>1</td>\n    </tr>\n    <tr>\n      <th>551</th>\n      <td>552</td>\n      <td>b</td>\n      <td>47.17</td>\n      <td>5.835</td>\n      <td>u</td>\n      <td>g</td>\n      <td>w</td>\n      <td>v</td>\n      <td>5.50</td>\n      <td>f</td>\n      <td>f</td>\n      <td>0</td>\n      <td>f</td>\n      <td>g</td>\n      <td>465.0</td>\n      <td>150</td>\n      <td>1</td>\n    </tr>\n  </tbody>\n</table>\n</div>"
          },
          "metadata": {}
        }
      ]
    },
    {
      "metadata": {
        "_cell_guid": "94bc50bb-94bd-4f96-9a05-b606714dbcc9",
        "_uuid": "f437fdd69050e8925fd98776564de776cc616145",
        "trusted": true
      },
      "cell_type": "code",
      "source": "train_df.shape",
      "execution_count": 126,
      "outputs": [
        {
          "output_type": "execute_result",
          "execution_count": 126,
          "data": {
            "text/plain": "(552, 17)"
          },
          "metadata": {}
        }
      ]
    },
    {
      "metadata": {
        "_cell_guid": "a2ad03d7-dc7e-4dee-bb74-427b47c13dc9",
        "_uuid": "b5188476a66dd69b498aad004433d8618b344ff1",
        "trusted": true
      },
      "cell_type": "code",
      "source": "train_df.info()\nprint('_'*40)\ntest_df.info()",
      "execution_count": 127,
      "outputs": [
        {
          "output_type": "stream",
          "text": "<class 'pandas.core.frame.DataFrame'>\nRangeIndex: 552 entries, 0 to 551\nData columns (total 17 columns):\nid    552 non-null int64\nA     544 non-null object\nB     543 non-null float64\nC     552 non-null float64\nD     547 non-null object\nE     547 non-null object\nF     545 non-null object\nG     545 non-null object\nH     552 non-null float64\nI     552 non-null object\nJ     552 non-null object\nK     552 non-null int64\nL     552 non-null object\nM     552 non-null object\nN     541 non-null float64\nO     552 non-null int64\nP     552 non-null int64\ndtypes: float64(4), int64(4), object(9)\nmemory usage: 73.4+ KB\n________________________________________\n<class 'pandas.core.frame.DataFrame'>\nRangeIndex: 138 entries, 0 to 137\nData columns (total 16 columns):\nid    138 non-null int64\nA     134 non-null object\nB     135 non-null float64\nC     138 non-null float64\nD     137 non-null object\nE     137 non-null object\nF     136 non-null object\nG     136 non-null object\nH     138 non-null float64\nI     138 non-null object\nJ     138 non-null object\nK     138 non-null int64\nL     138 non-null object\nM     138 non-null object\nN     136 non-null float64\nO     138 non-null int64\ndtypes: float64(4), int64(3), object(9)\nmemory usage: 17.3+ KB\n",
          "name": "stdout"
        }
      ]
    },
    {
      "metadata": {
        "_cell_guid": "407f2c12-a0e2-426f-a74b-07b7d22c4b19",
        "_uuid": "1413e8dd995a52be53e0090fd75e826326809133",
        "trusted": true
      },
      "cell_type": "code",
      "source": "train_df.describe()",
      "execution_count": 128,
      "outputs": [
        {
          "output_type": "execute_result",
          "execution_count": 128,
          "data": {
            "text/plain": "               id           B     ...                  O           P\ncount  552.000000  543.000000     ...         552.000000  552.000000\nmean   276.500000   31.364899     ...        1087.576087    0.552536\nstd    159.492947   11.873665     ...        5758.841945    0.497683\nmin      1.000000   13.750000     ...           0.000000    0.000000\n25%    138.750000   22.500000     ...           0.000000    0.000000\n50%    276.500000   28.170000     ...           3.500000    1.000000\n75%    414.250000   37.665000     ...         364.750000    1.000000\nmax    552.000000   80.250000     ...      100000.000000    1.000000\n\n[8 rows x 8 columns]",
            "text/html": "<div>\n<style scoped>\n    .dataframe tbody tr th:only-of-type {\n        vertical-align: middle;\n    }\n\n    .dataframe tbody tr th {\n        vertical-align: top;\n    }\n\n    .dataframe thead th {\n        text-align: right;\n    }\n</style>\n<table border=\"1\" class=\"dataframe\">\n  <thead>\n    <tr style=\"text-align: right;\">\n      <th></th>\n      <th>id</th>\n      <th>B</th>\n      <th>C</th>\n      <th>H</th>\n      <th>K</th>\n      <th>N</th>\n      <th>O</th>\n      <th>P</th>\n    </tr>\n  </thead>\n  <tbody>\n    <tr>\n      <th>count</th>\n      <td>552.000000</td>\n      <td>543.000000</td>\n      <td>552.000000</td>\n      <td>552.000000</td>\n      <td>552.000000</td>\n      <td>541.000000</td>\n      <td>552.000000</td>\n      <td>552.000000</td>\n    </tr>\n    <tr>\n      <th>mean</th>\n      <td>276.500000</td>\n      <td>31.364899</td>\n      <td>4.780136</td>\n      <td>2.259176</td>\n      <td>2.318841</td>\n      <td>175.162662</td>\n      <td>1087.576087</td>\n      <td>0.552536</td>\n    </tr>\n    <tr>\n      <th>std</th>\n      <td>159.492947</td>\n      <td>11.873665</td>\n      <td>4.938454</td>\n      <td>3.442564</td>\n      <td>4.297867</td>\n      <td>154.873746</td>\n      <td>5758.841945</td>\n      <td>0.497683</td>\n    </tr>\n    <tr>\n      <th>min</th>\n      <td>1.000000</td>\n      <td>13.750000</td>\n      <td>0.000000</td>\n      <td>0.000000</td>\n      <td>0.000000</td>\n      <td>0.000000</td>\n      <td>0.000000</td>\n      <td>0.000000</td>\n    </tr>\n    <tr>\n      <th>25%</th>\n      <td>138.750000</td>\n      <td>22.500000</td>\n      <td>1.000000</td>\n      <td>0.165000</td>\n      <td>0.000000</td>\n      <td>60.000000</td>\n      <td>0.000000</td>\n      <td>0.000000</td>\n    </tr>\n    <tr>\n      <th>50%</th>\n      <td>276.500000</td>\n      <td>28.170000</td>\n      <td>2.750000</td>\n      <td>1.000000</td>\n      <td>0.000000</td>\n      <td>152.000000</td>\n      <td>3.500000</td>\n      <td>1.000000</td>\n    </tr>\n    <tr>\n      <th>75%</th>\n      <td>414.250000</td>\n      <td>37.665000</td>\n      <td>7.561250</td>\n      <td>2.750000</td>\n      <td>3.000000</td>\n      <td>268.000000</td>\n      <td>364.750000</td>\n      <td>1.000000</td>\n    </tr>\n    <tr>\n      <th>max</th>\n      <td>552.000000</td>\n      <td>80.250000</td>\n      <td>28.000000</td>\n      <td>28.500000</td>\n      <td>40.000000</td>\n      <td>1160.000000</td>\n      <td>100000.000000</td>\n      <td>1.000000</td>\n    </tr>\n  </tbody>\n</table>\n</div>"
          },
          "metadata": {}
        }
      ]
    },
    {
      "metadata": {
        "_cell_guid": "d629bb93-7e4a-460a-b58c-20c73d06fbac",
        "_uuid": "44a374033cc79306104bd416496763561f89dbe9",
        "trusted": true
      },
      "cell_type": "code",
      "source": "train_df.describe(include=['O'])",
      "execution_count": 129,
      "outputs": [
        {
          "output_type": "execute_result",
          "execution_count": 129,
          "data": {
            "text/plain": "          A    D    E    F    G    I    J    L    M\ncount   544  547  547  545  545  552  552  552  552\nunique    2    3    3   14    9    2    2    2    3\ntop       b    u    g    c    v    t    f    f    g\nfreq    374  416  416  115  319  286  319  298  497",
            "text/html": "<div>\n<style scoped>\n    .dataframe tbody tr th:only-of-type {\n        vertical-align: middle;\n    }\n\n    .dataframe tbody tr th {\n        vertical-align: top;\n    }\n\n    .dataframe thead th {\n        text-align: right;\n    }\n</style>\n<table border=\"1\" class=\"dataframe\">\n  <thead>\n    <tr style=\"text-align: right;\">\n      <th></th>\n      <th>A</th>\n      <th>D</th>\n      <th>E</th>\n      <th>F</th>\n      <th>G</th>\n      <th>I</th>\n      <th>J</th>\n      <th>L</th>\n      <th>M</th>\n    </tr>\n  </thead>\n  <tbody>\n    <tr>\n      <th>count</th>\n      <td>544</td>\n      <td>547</td>\n      <td>547</td>\n      <td>545</td>\n      <td>545</td>\n      <td>552</td>\n      <td>552</td>\n      <td>552</td>\n      <td>552</td>\n    </tr>\n    <tr>\n      <th>unique</th>\n      <td>2</td>\n      <td>3</td>\n      <td>3</td>\n      <td>14</td>\n      <td>9</td>\n      <td>2</td>\n      <td>2</td>\n      <td>2</td>\n      <td>3</td>\n    </tr>\n    <tr>\n      <th>top</th>\n      <td>b</td>\n      <td>u</td>\n      <td>g</td>\n      <td>c</td>\n      <td>v</td>\n      <td>t</td>\n      <td>f</td>\n      <td>f</td>\n      <td>g</td>\n    </tr>\n    <tr>\n      <th>freq</th>\n      <td>374</td>\n      <td>416</td>\n      <td>416</td>\n      <td>115</td>\n      <td>319</td>\n      <td>286</td>\n      <td>319</td>\n      <td>298</td>\n      <td>497</td>\n    </tr>\n  </tbody>\n</table>\n</div>"
          },
          "metadata": {}
        }
      ]
    },
    {
      "metadata": {
        "_cell_guid": "21fa4a7b-494a-4d23-8704-96ec17f2261a",
        "_uuid": "a85c623ff8603c21b15d4789c206a0c256b3f919",
        "trusted": true
      },
      "cell_type": "code",
      "source": "train_df.isnull().sum()",
      "execution_count": 130,
      "outputs": [
        {
          "output_type": "execute_result",
          "execution_count": 130,
          "data": {
            "text/plain": "id     0\nA      8\nB      9\nC      0\nD      5\nE      5\nF      7\nG      7\nH      0\nI      0\nJ      0\nK      0\nL      0\nM      0\nN     11\nO      0\nP      0\ndtype: int64"
          },
          "metadata": {}
        }
      ]
    },
    {
      "metadata": {
        "_cell_guid": "1d2fed88-99dc-44ef-be38-b2d62143d348",
        "_uuid": "3b1e5e968f2cbdc6f192a47ea22e8a91601f834d",
        "trusted": true
      },
      "cell_type": "code",
      "source": "test_df.isnull().sum()",
      "execution_count": 131,
      "outputs": [
        {
          "output_type": "execute_result",
          "execution_count": 131,
          "data": {
            "text/plain": "id    0\nA     4\nB     3\nC     0\nD     1\nE     1\nF     2\nG     2\nH     0\nI     0\nJ     0\nK     0\nL     0\nM     0\nN     2\nO     0\ndtype: int64"
          },
          "metadata": {}
        }
      ]
    },
    {
      "metadata": {
        "collapsed": true,
        "_uuid": "59286c69ce140ee35a75e8a0a6c573b950074d56",
        "_cell_guid": "8637be12-09b4-435c-a739-cbb261629a76",
        "trusted": true
      },
      "cell_type": "code",
      "source": "train_df = train_df.dropna(axis=0)\ntest_df = test_df.dropna(axis=0)",
      "execution_count": 132,
      "outputs": []
    },
    {
      "metadata": {
        "_cell_guid": "98187dcf-e17d-43b1-8f0f-c93db95f48ec",
        "_uuid": "96e86269cd561af662bc142d7d40ecb61d8611b4",
        "trusted": true
      },
      "cell_type": "code",
      "source": "train_df.isnull().sum()",
      "execution_count": 133,
      "outputs": [
        {
          "output_type": "execute_result",
          "execution_count": 133,
          "data": {
            "text/plain": "id    0\nA     0\nB     0\nC     0\nD     0\nE     0\nF     0\nG     0\nH     0\nI     0\nJ     0\nK     0\nL     0\nM     0\nN     0\nO     0\nP     0\ndtype: int64"
          },
          "metadata": {}
        }
      ]
    },
    {
      "metadata": {
        "_cell_guid": "d567b657-4332-4b6e-9fe4-86aa58491701",
        "_uuid": "c26f6338549fba58d9faaf143f667c35bee36cea",
        "trusted": true
      },
      "cell_type": "code",
      "source": "test_df.isnull().sum()",
      "execution_count": 134,
      "outputs": [
        {
          "output_type": "execute_result",
          "execution_count": 134,
          "data": {
            "text/plain": "id    0\nA     0\nB     0\nC     0\nD     0\nE     0\nF     0\nG     0\nH     0\nI     0\nJ     0\nK     0\nL     0\nM     0\nN     0\nO     0\ndtype: int64"
          },
          "metadata": {}
        }
      ]
    },
    {
      "metadata": {
        "collapsed": true,
        "_uuid": "07a3e9f927d36e17971230c77f15353fa9327049",
        "_cell_guid": "da754528-d9df-4a4e-8021-fddb6f08e0b1",
        "trusted": true
      },
      "cell_type": "code",
      "source": "combine = [train_df, test_df]",
      "execution_count": 135,
      "outputs": []
    },
    {
      "metadata": {
        "_cell_guid": "7f1e7005-074a-424c-8321-4647e9151eda",
        "_uuid": "25e806c33817a22b272ba171b21f91849506ecad",
        "trusted": true
      },
      "cell_type": "code",
      "source": "train_df[[\"A\", \"P\"]].groupby(['A'], as_index=False).mean().sort_values(by='P', ascending=False)",
      "execution_count": 136,
      "outputs": [
        {
          "output_type": "execute_result",
          "execution_count": 136,
          "data": {
            "text/plain": "   A         P\n1  b  0.557103\n0  a  0.515152",
            "text/html": "<div>\n<style scoped>\n    .dataframe tbody tr th:only-of-type {\n        vertical-align: middle;\n    }\n\n    .dataframe tbody tr th {\n        vertical-align: top;\n    }\n\n    .dataframe thead th {\n        text-align: right;\n    }\n</style>\n<table border=\"1\" class=\"dataframe\">\n  <thead>\n    <tr style=\"text-align: right;\">\n      <th></th>\n      <th>A</th>\n      <th>P</th>\n    </tr>\n  </thead>\n  <tbody>\n    <tr>\n      <th>1</th>\n      <td>b</td>\n      <td>0.557103</td>\n    </tr>\n    <tr>\n      <th>0</th>\n      <td>a</td>\n      <td>0.515152</td>\n    </tr>\n  </tbody>\n</table>\n</div>"
          },
          "metadata": {}
        }
      ]
    },
    {
      "metadata": {
        "_cell_guid": "8e06fd30-200e-475c-85ee-a0bc2b2b442a",
        "_uuid": "72fd844aeab70cc26ad82fb49058e6bc37d34fee",
        "trusted": true
      },
      "cell_type": "code",
      "source": "train_df[[\"D\", \"P\"]].groupby(['D'], as_index=False).mean().sort_values(by='P', ascending=False)",
      "execution_count": 137,
      "outputs": [
        {
          "output_type": "execute_result",
          "execution_count": 137,
          "data": {
            "text/plain": "   D         P\n2  y  0.677686\n1  u  0.506234\n0  l  0.000000",
            "text/html": "<div>\n<style scoped>\n    .dataframe tbody tr th:only-of-type {\n        vertical-align: middle;\n    }\n\n    .dataframe tbody tr th {\n        vertical-align: top;\n    }\n\n    .dataframe thead th {\n        text-align: right;\n    }\n</style>\n<table border=\"1\" class=\"dataframe\">\n  <thead>\n    <tr style=\"text-align: right;\">\n      <th></th>\n      <th>D</th>\n      <th>P</th>\n    </tr>\n  </thead>\n  <tbody>\n    <tr>\n      <th>2</th>\n      <td>y</td>\n      <td>0.677686</td>\n    </tr>\n    <tr>\n      <th>1</th>\n      <td>u</td>\n      <td>0.506234</td>\n    </tr>\n    <tr>\n      <th>0</th>\n      <td>l</td>\n      <td>0.000000</td>\n    </tr>\n  </tbody>\n</table>\n</div>"
          },
          "metadata": {}
        }
      ]
    },
    {
      "metadata": {
        "_cell_guid": "86b3f4e8-52fa-4d16-ab8f-977d9d52f0a8",
        "_uuid": "0f78d618fc52b8d3902381d5393dcae59ac0ab7e",
        "trusted": true
      },
      "cell_type": "code",
      "source": "train_df[[\"E\", \"P\"]].groupby(['E'], as_index=False).mean().sort_values(by='P', ascending=False)",
      "execution_count": 138,
      "outputs": [
        {
          "output_type": "execute_result",
          "execution_count": 138,
          "data": {
            "text/plain": "    E         P\n2   p  0.677686\n0   g  0.506234\n1  gg  0.000000",
            "text/html": "<div>\n<style scoped>\n    .dataframe tbody tr th:only-of-type {\n        vertical-align: middle;\n    }\n\n    .dataframe tbody tr th {\n        vertical-align: top;\n    }\n\n    .dataframe thead th {\n        text-align: right;\n    }\n</style>\n<table border=\"1\" class=\"dataframe\">\n  <thead>\n    <tr style=\"text-align: right;\">\n      <th></th>\n      <th>E</th>\n      <th>P</th>\n    </tr>\n  </thead>\n  <tbody>\n    <tr>\n      <th>2</th>\n      <td>p</td>\n      <td>0.677686</td>\n    </tr>\n    <tr>\n      <th>0</th>\n      <td>g</td>\n      <td>0.506234</td>\n    </tr>\n    <tr>\n      <th>1</th>\n      <td>gg</td>\n      <td>0.000000</td>\n    </tr>\n  </tbody>\n</table>\n</div>"
          },
          "metadata": {}
        }
      ]
    },
    {
      "metadata": {
        "_cell_guid": "c397a819-0480-4678-a910-9d64deea305c",
        "_uuid": "a4eec0f75977e312ac1c04c85affc2ef728924ee",
        "trusted": true
      },
      "cell_type": "code",
      "source": "train_df[[\"F\", \"P\"]].groupby(['F'], as_index=False).mean().sort_values(by='F', ascending=False)",
      "execution_count": 139,
      "outputs": [
        {
          "output_type": "execute_result",
          "execution_count": 139,
          "data": {
            "text/plain": "     F         P\n13   x  0.172414\n12   w  0.510204\n11   r  0.000000\n10   q  0.343750\n9    m  0.548387\n8    k  0.729730\n7    j  0.625000\n6    i  0.720930\n5   ff  0.853659\n4    e  0.388889\n3    d  0.761905\n2   cc  0.214286\n1    c  0.562500\n0   aa  0.619048",
            "text/html": "<div>\n<style scoped>\n    .dataframe tbody tr th:only-of-type {\n        vertical-align: middle;\n    }\n\n    .dataframe tbody tr th {\n        vertical-align: top;\n    }\n\n    .dataframe thead th {\n        text-align: right;\n    }\n</style>\n<table border=\"1\" class=\"dataframe\">\n  <thead>\n    <tr style=\"text-align: right;\">\n      <th></th>\n      <th>F</th>\n      <th>P</th>\n    </tr>\n  </thead>\n  <tbody>\n    <tr>\n      <th>13</th>\n      <td>x</td>\n      <td>0.172414</td>\n    </tr>\n    <tr>\n      <th>12</th>\n      <td>w</td>\n      <td>0.510204</td>\n    </tr>\n    <tr>\n      <th>11</th>\n      <td>r</td>\n      <td>0.000000</td>\n    </tr>\n    <tr>\n      <th>10</th>\n      <td>q</td>\n      <td>0.343750</td>\n    </tr>\n    <tr>\n      <th>9</th>\n      <td>m</td>\n      <td>0.548387</td>\n    </tr>\n    <tr>\n      <th>8</th>\n      <td>k</td>\n      <td>0.729730</td>\n    </tr>\n    <tr>\n      <th>7</th>\n      <td>j</td>\n      <td>0.625000</td>\n    </tr>\n    <tr>\n      <th>6</th>\n      <td>i</td>\n      <td>0.720930</td>\n    </tr>\n    <tr>\n      <th>5</th>\n      <td>ff</td>\n      <td>0.853659</td>\n    </tr>\n    <tr>\n      <th>4</th>\n      <td>e</td>\n      <td>0.388889</td>\n    </tr>\n    <tr>\n      <th>3</th>\n      <td>d</td>\n      <td>0.761905</td>\n    </tr>\n    <tr>\n      <th>2</th>\n      <td>cc</td>\n      <td>0.214286</td>\n    </tr>\n    <tr>\n      <th>1</th>\n      <td>c</td>\n      <td>0.562500</td>\n    </tr>\n    <tr>\n      <th>0</th>\n      <td>aa</td>\n      <td>0.619048</td>\n    </tr>\n  </tbody>\n</table>\n</div>"
          },
          "metadata": {}
        }
      ]
    },
    {
      "metadata": {
        "_cell_guid": "2df4b5c8-29d5-4705-addf-7f15cc711d1c",
        "_uuid": "4ce2cee31acc260330990a6412fbfebf41213d3c",
        "trusted": true
      },
      "cell_type": "code",
      "source": "g = sns.FacetGrid(train_df, col='P')\ng.map(plt.hist, 'B', bins=20)",
      "execution_count": 140,
      "outputs": [
        {
          "output_type": "execute_result",
          "execution_count": 140,
          "data": {
            "text/plain": "<seaborn.axisgrid.FacetGrid at 0x7fab0d052908>"
          },
          "metadata": {}
        },
        {
          "output_type": "display_data",
          "data": {
            "text/plain": "<matplotlib.figure.Figure at 0x7fab0d052470>",
            "image/png": "[encoded data removed]"
          },
          "metadata": {}
        }
      ]
    },
    {
      "metadata": {
        "_cell_guid": "83a1416b-75fe-40fe-ab0b-ae98ad93c488",
        "_uuid": "87fa6dfa2ebb361ded207b050dd22497ea99acc8",
        "trusted": true
      },
      "cell_type": "code",
      "source": "train_df['A'].value_counts()",
      "execution_count": 141,
      "outputs": [
        {
          "output_type": "execute_result",
          "execution_count": 141,
          "data": {
            "text/plain": "b    359\na    165\nName: A, dtype: int64"
          },
          "metadata": {}
        }
      ]
    },
    {
      "metadata": {
        "_cell_guid": "08a29fe2-f30e-41b8-a74b-70bb12951d72",
        "_uuid": "fed0fa6d46aaebab19de149ded992151d2a4bac4",
        "trusted": true
      },
      "cell_type": "code",
      "source": "for dataset in combine:\n    dataset['A'] = dataset['A'].map( {'a': 1, 'b': 0} ).astype(int)\n\ntrain_df.head()",
      "execution_count": 142,
      "outputs": [
        {
          "output_type": "execute_result",
          "execution_count": 142,
          "data": {
            "text/plain": "   id  A      B       C  D  E   F  G      H  I  J   K  L  M      N    O  P\n0   1  0  18.42  10.415  y  p  aa  v  0.125  t  f   0  f  g  120.0  375  1\n1   2  1  21.75  11.750  u  g   c  v  0.250  f  f   0  t  g  180.0    0  1\n2   3  0  30.17   1.085  y  p   c  v  0.040  f  f   0  f  g  170.0  179  1\n3   4  0  22.67   2.540  y  p   c  h  2.585  t  f   0  f  g    0.0    0  0\n4   5  1  36.00   1.000  u  g   c  v  2.000  t  t  11  f  g    0.0  456  0",
            "text/html": "<div>\n<style scoped>\n    .dataframe tbody tr th:only-of-type {\n        vertical-align: middle;\n    }\n\n    .dataframe tbody tr th {\n        vertical-align: top;\n    }\n\n    .dataframe thead th {\n        text-align: right;\n    }\n</style>\n<table border=\"1\" class=\"dataframe\">\n  <thead>\n    <tr style=\"text-align: right;\">\n      <th></th>\n      <th>id</th>\n      <th>A</th>\n      <th>B</th>\n      <th>C</th>\n      <th>D</th>\n      <th>E</th>\n      <th>F</th>\n      <th>G</th>\n      <th>H</th>\n      <th>I</th>\n      <th>J</th>\n      <th>K</th>\n      <th>L</th>\n      <th>M</th>\n      <th>N</th>\n      <th>O</th>\n      <th>P</th>\n    </tr>\n  </thead>\n  <tbody>\n    <tr>\n      <th>0</th>\n      <td>1</td>\n      <td>0</td>\n      <td>18.42</td>\n      <td>10.415</td>\n      <td>y</td>\n      <td>p</td>\n      <td>aa</td>\n      <td>v</td>\n      <td>0.125</td>\n      <td>t</td>\n      <td>f</td>\n      <td>0</td>\n      <td>f</td>\n      <td>g</td>\n      <td>120.0</td>\n      <td>375</td>\n      <td>1</td>\n    </tr>\n    <tr>\n      <th>1</th>\n      <td>2</td>\n      <td>1</td>\n      <td>21.75</td>\n      <td>11.750</td>\n      <td>u</td>\n      <td>g</td>\n      <td>c</td>\n      <td>v</td>\n      <td>0.250</td>\n      <td>f</td>\n      <td>f</td>\n      <td>0</td>\n      <td>t</td>\n      <td>g</td>\n      <td>180.0</td>\n      <td>0</td>\n      <td>1</td>\n    </tr>\n    <tr>\n      <th>2</th>\n      <td>3</td>\n      <td>0</td>\n      <td>30.17</td>\n      <td>1.085</td>\n      <td>y</td>\n      <td>p</td>\n      <td>c</td>\n      <td>v</td>\n      <td>0.040</td>\n      <td>f</td>\n      <td>f</td>\n      <td>0</td>\n      <td>f</td>\n      <td>g</td>\n      <td>170.0</td>\n      <td>179</td>\n      <td>1</td>\n    </tr>\n    <tr>\n      <th>3</th>\n      <td>4</td>\n      <td>0</td>\n      <td>22.67</td>\n      <td>2.540</td>\n      <td>y</td>\n      <td>p</td>\n      <td>c</td>\n      <td>h</td>\n      <td>2.585</td>\n      <td>t</td>\n      <td>f</td>\n      <td>0</td>\n      <td>f</td>\n      <td>g</td>\n      <td>0.0</td>\n      <td>0</td>\n      <td>0</td>\n    </tr>\n    <tr>\n      <th>4</th>\n      <td>5</td>\n      <td>1</td>\n      <td>36.00</td>\n      <td>1.000</td>\n      <td>u</td>\n      <td>g</td>\n      <td>c</td>\n      <td>v</td>\n      <td>2.000</td>\n      <td>t</td>\n      <td>t</td>\n      <td>11</td>\n      <td>f</td>\n      <td>g</td>\n      <td>0.0</td>\n      <td>456</td>\n      <td>0</td>\n    </tr>\n  </tbody>\n</table>\n</div>"
          },
          "metadata": {}
        }
      ]
    },
    {
      "metadata": {
        "_cell_guid": "9bd5ce8c-02ee-4abb-9384-c0936ca1b4a7",
        "_uuid": "345b6f70d71cf2b6fa88ae5c9bd414267e365dfe",
        "trusted": true
      },
      "cell_type": "code",
      "source": "train_df['D'].value_counts()",
      "execution_count": 143,
      "outputs": [
        {
          "output_type": "execute_result",
          "execution_count": 143,
          "data": {
            "text/plain": "u    401\ny    121\nl      2\nName: D, dtype: int64"
          },
          "metadata": {}
        }
      ]
    },
    {
      "metadata": {
        "_cell_guid": "04ff48eb-a3d2-41fa-ab9e-0042b62fcd00",
        "_uuid": "5caf9462ecb728159fb1de5b7646c29a98d4b166",
        "trusted": true
      },
      "cell_type": "code",
      "source": "for dataset in combine:\n    dataset['D'] = dataset['D'].map( {'u': 2, 'y': 1, 'l': 0} ).astype(int)\n\ntrain_df.head()",
      "execution_count": 144,
      "outputs": [
        {
          "output_type": "execute_result",
          "execution_count": 144,
          "data": {
            "text/plain": "   id  A      B       C  D  E   F  G      H  I  J   K  L  M      N    O  P\n0   1  0  18.42  10.415  1  p  aa  v  0.125  t  f   0  f  g  120.0  375  1\n1   2  1  21.75  11.750  2  g   c  v  0.250  f  f   0  t  g  180.0    0  1\n2   3  0  30.17   1.085  1  p   c  v  0.040  f  f   0  f  g  170.0  179  1\n3   4  0  22.67   2.540  1  p   c  h  2.585  t  f   0  f  g    0.0    0  0\n4   5  1  36.00   1.000  2  g   c  v  2.000  t  t  11  f  g    0.0  456  0",
            "text/html": "<div>\n<style scoped>\n    .dataframe tbody tr th:only-of-type {\n        vertical-align: middle;\n    }\n\n    .dataframe tbody tr th {\n        vertical-align: top;\n    }\n\n    .dataframe thead th {\n        text-align: right;\n    }\n</style>\n<table border=\"1\" class=\"dataframe\">\n  <thead>\n    <tr style=\"text-align: right;\">\n      <th></th>\n      <th>id</th>\n      <th>A</th>\n      <th>B</th>\n      <th>C</th>\n      <th>D</th>\n      <th>E</th>\n      <th>F</th>\n      <th>G</th>\n      <th>H</th>\n      <th>I</th>\n      <th>J</th>\n      <th>K</th>\n      <th>L</th>\n      <th>M</th>\n      <th>N</th>\n      <th>O</th>\n      <th>P</th>\n    </tr>\n  </thead>\n  <tbody>\n    <tr>\n      <th>0</th>\n      <td>1</td>\n      <td>0</td>\n      <td>18.42</td>\n      <td>10.415</td>\n      <td>1</td>\n      <td>p</td>\n      <td>aa</td>\n      <td>v</td>\n      <td>0.125</td>\n      <td>t</td>\n      <td>f</td>\n      <td>0</td>\n      <td>f</td>\n      <td>g</td>\n      <td>120.0</td>\n      <td>375</td>\n      <td>1</td>\n    </tr>\n    <tr>\n      <th>1</th>\n      <td>2</td>\n      <td>1</td>\n      <td>21.75</td>\n      <td>11.750</td>\n      <td>2</td>\n      <td>g</td>\n      <td>c</td>\n      <td>v</td>\n      <td>0.250</td>\n      <td>f</td>\n      <td>f</td>\n      <td>0</td>\n      <td>t</td>\n      <td>g</td>\n      <td>180.0</td>\n      <td>0</td>\n      <td>1</td>\n    </tr>\n    <tr>\n      <th>2</th>\n      <td>3</td>\n      <td>0</td>\n      <td>30.17</td>\n      <td>1.085</td>\n      <td>1</td>\n      <td>p</td>\n      <td>c</td>\n      <td>v</td>\n      <td>0.040</td>\n      <td>f</td>\n      <td>f</td>\n      <td>0</td>\n      <td>f</td>\n      <td>g</td>\n      <td>170.0</td>\n      <td>179</td>\n      <td>1</td>\n    </tr>\n    <tr>\n      <th>3</th>\n      <td>4</td>\n      <td>0</td>\n      <td>22.67</td>\n      <td>2.540</td>\n      <td>1</td>\n      <td>p</td>\n      <td>c</td>\n      <td>h</td>\n      <td>2.585</td>\n      <td>t</td>\n      <td>f</td>\n      <td>0</td>\n      <td>f</td>\n      <td>g</td>\n      <td>0.0</td>\n      <td>0</td>\n      <td>0</td>\n    </tr>\n    <tr>\n      <th>4</th>\n      <td>5</td>\n      <td>1</td>\n      <td>36.00</td>\n      <td>1.000</td>\n      <td>2</td>\n      <td>g</td>\n      <td>c</td>\n      <td>v</td>\n      <td>2.000</td>\n      <td>t</td>\n      <td>t</td>\n      <td>11</td>\n      <td>f</td>\n      <td>g</td>\n      <td>0.0</td>\n      <td>456</td>\n      <td>0</td>\n    </tr>\n  </tbody>\n</table>\n</div>"
          },
          "metadata": {}
        }
      ]
    },
    {
      "metadata": {
        "_cell_guid": "c4d274cb-495a-48be-ac80-e869902174bd",
        "_uuid": "46e53aec51def751586047ded6b23687870d5fec",
        "trusted": true
      },
      "cell_type": "code",
      "source": "train_df['E'].value_counts()",
      "execution_count": 145,
      "outputs": [
        {
          "output_type": "execute_result",
          "execution_count": 145,
          "data": {
            "text/plain": "g     401\np     121\ngg      2\nName: E, dtype: int64"
          },
          "metadata": {}
        }
      ]
    },
    {
      "metadata": {
        "_cell_guid": "764f1dfa-5868-4bc7-8739-b812b3f69979",
        "_uuid": "1f164615c4a6de1980fd2c1c8ef6d37586432c32",
        "trusted": true
      },
      "cell_type": "code",
      "source": "for dataset in combine:\n    dataset['E'] = dataset['E'].map( {'g': 2, 'p': 1, 'gg': 0} ).astype(int)\n\ntrain_df.head()",
      "execution_count": 146,
      "outputs": [
        {
          "output_type": "execute_result",
          "execution_count": 146,
          "data": {
            "text/plain": "   id  A      B       C  D  E   F  G      H  I  J   K  L  M      N    O  P\n0   1  0  18.42  10.415  1  1  aa  v  0.125  t  f   0  f  g  120.0  375  1\n1   2  1  21.75  11.750  2  2   c  v  0.250  f  f   0  t  g  180.0    0  1\n2   3  0  30.17   1.085  1  1   c  v  0.040  f  f   0  f  g  170.0  179  1\n3   4  0  22.67   2.540  1  1   c  h  2.585  t  f   0  f  g    0.0    0  0\n4   5  1  36.00   1.000  2  2   c  v  2.000  t  t  11  f  g    0.0  456  0",
            "text/html": "<div>\n<style scoped>\n    .dataframe tbody tr th:only-of-type {\n        vertical-align: middle;\n    }\n\n    .dataframe tbody tr th {\n        vertical-align: top;\n    }\n\n    .dataframe thead th {\n        text-align: right;\n    }\n</style>\n<table border=\"1\" class=\"dataframe\">\n  <thead>\n    <tr style=\"text-align: right;\">\n      <th></th>\n      <th>id</th>\n      <th>A</th>\n      <th>B</th>\n      <th>C</th>\n      <th>D</th>\n      <th>E</th>\n      <th>F</th>\n      <th>G</th>\n      <th>H</th>\n      <th>I</th>\n      <th>J</th>\n      <th>K</th>\n      <th>L</th>\n      <th>M</th>\n      <th>N</th>\n      <th>O</th>\n      <th>P</th>\n    </tr>\n  </thead>\n  <tbody>\n    <tr>\n      <th>0</th>\n      <td>1</td>\n      <td>0</td>\n      <td>18.42</td>\n      <td>10.415</td>\n      <td>1</td>\n      <td>1</td>\n      <td>aa</td>\n      <td>v</td>\n      <td>0.125</td>\n      <td>t</td>\n      <td>f</td>\n      <td>0</td>\n      <td>f</td>\n      <td>g</td>\n      <td>120.0</td>\n      <td>375</td>\n      <td>1</td>\n    </tr>\n    <tr>\n      <th>1</th>\n      <td>2</td>\n      <td>1</td>\n      <td>21.75</td>\n      <td>11.750</td>\n      <td>2</td>\n      <td>2</td>\n      <td>c</td>\n      <td>v</td>\n      <td>0.250</td>\n      <td>f</td>\n      <td>f</td>\n      <td>0</td>\n      <td>t</td>\n      <td>g</td>\n      <td>180.0</td>\n      <td>0</td>\n      <td>1</td>\n    </tr>\n    <tr>\n      <th>2</th>\n      <td>3</td>\n      <td>0</td>\n      <td>30.17</td>\n      <td>1.085</td>\n      <td>1</td>\n      <td>1</td>\n      <td>c</td>\n      <td>v</td>\n      <td>0.040</td>\n      <td>f</td>\n      <td>f</td>\n      <td>0</td>\n      <td>f</td>\n      <td>g</td>\n      <td>170.0</td>\n      <td>179</td>\n      <td>1</td>\n    </tr>\n    <tr>\n      <th>3</th>\n      <td>4</td>\n      <td>0</td>\n      <td>22.67</td>\n      <td>2.540</td>\n      <td>1</td>\n      <td>1</td>\n      <td>c</td>\n      <td>h</td>\n      <td>2.585</td>\n      <td>t</td>\n      <td>f</td>\n      <td>0</td>\n      <td>f</td>\n      <td>g</td>\n      <td>0.0</td>\n      <td>0</td>\n      <td>0</td>\n    </tr>\n    <tr>\n      <th>4</th>\n      <td>5</td>\n      <td>1</td>\n      <td>36.00</td>\n      <td>1.000</td>\n      <td>2</td>\n      <td>2</td>\n      <td>c</td>\n      <td>v</td>\n      <td>2.000</td>\n      <td>t</td>\n      <td>t</td>\n      <td>11</td>\n      <td>f</td>\n      <td>g</td>\n      <td>0.0</td>\n      <td>456</td>\n      <td>0</td>\n    </tr>\n  </tbody>\n</table>\n</div>"
          },
          "metadata": {}
        }
      ]
    },
    {
      "metadata": {
        "_cell_guid": "43186772-18bc-40d0-80ae-646cfd7108b2",
        "_uuid": "549efde4e9cf73fce25eec45bc2e77b86e0334f3",
        "trusted": true
      },
      "cell_type": "code",
      "source": "train_df['F'].value_counts()",
      "execution_count": 147,
      "outputs": [
        {
          "output_type": "execute_result",
          "execution_count": 147,
          "data": {
            "text/plain": "c     112\nq      64\nw      49\ni      43\naa     42\nff     41\nk      37\nm      31\nx      29\ncc     28\nd      21\ne      18\nj       8\nr       1\nName: F, dtype: int64"
          },
          "metadata": {}
        }
      ]
    },
    {
      "metadata": {
        "_cell_guid": "564988ce-a69e-48e5-b41f-6d5c551e58fe",
        "_uuid": "25bc1a8d9105581434d9d0e361eecc8350722aa3",
        "trusted": true
      },
      "cell_type": "code",
      "source": "for dataset in combine:\n    dataset['F'] = dataset['F'].map( {'c': 14, 'q': 13, 'w': 12, 'i': 11, 'aa': 10, 'ff': 9,'k': 8,'m': 7,'x': 6,\n                                     'cc': 5,'d': 4,'e': 3,'e': 2,'j': 1,'r': 0} ).astype(int)\n\ntrain_df.head()",
      "execution_count": 148,
      "outputs": [
        {
          "output_type": "execute_result",
          "execution_count": 148,
          "data": {
            "text/plain": "   id  A      B       C  D  E   F  G      H  I  J   K  L  M      N    O  P\n0   1  0  18.42  10.415  1  1  10  v  0.125  t  f   0  f  g  120.0  375  1\n1   2  1  21.75  11.750  2  2  14  v  0.250  f  f   0  t  g  180.0    0  1\n2   3  0  30.17   1.085  1  1  14  v  0.040  f  f   0  f  g  170.0  179  1\n3   4  0  22.67   2.540  1  1  14  h  2.585  t  f   0  f  g    0.0    0  0\n4   5  1  36.00   1.000  2  2  14  v  2.000  t  t  11  f  g    0.0  456  0",
            "text/html": "<div>\n<style scoped>\n    .dataframe tbody tr th:only-of-type {\n        vertical-align: middle;\n    }\n\n    .dataframe tbody tr th {\n        vertical-align: top;\n    }\n\n    .dataframe thead th {\n        text-align: right;\n    }\n</style>\n<table border=\"1\" class=\"dataframe\">\n  <thead>\n    <tr style=\"text-align: right;\">\n      <th></th>\n      <th>id</th>\n      <th>A</th>\n      <th>B</th>\n      <th>C</th>\n      <th>D</th>\n      <th>E</th>\n      <th>F</th>\n      <th>G</th>\n      <th>H</th>\n      <th>I</th>\n      <th>J</th>\n      <th>K</th>\n      <th>L</th>\n      <th>M</th>\n      <th>N</th>\n      <th>O</th>\n      <th>P</th>\n    </tr>\n  </thead>\n  <tbody>\n    <tr>\n      <th>0</th>\n      <td>1</td>\n      <td>0</td>\n      <td>18.42</td>\n      <td>10.415</td>\n      <td>1</td>\n      <td>1</td>\n      <td>10</td>\n      <td>v</td>\n      <td>0.125</td>\n      <td>t</td>\n      <td>f</td>\n      <td>0</td>\n      <td>f</td>\n      <td>g</td>\n      <td>120.0</td>\n      <td>375</td>\n      <td>1</td>\n    </tr>\n    <tr>\n      <th>1</th>\n      <td>2</td>\n      <td>1</td>\n      <td>21.75</td>\n      <td>11.750</td>\n      <td>2</td>\n      <td>2</td>\n      <td>14</td>\n      <td>v</td>\n      <td>0.250</td>\n      <td>f</td>\n      <td>f</td>\n      <td>0</td>\n      <td>t</td>\n      <td>g</td>\n      <td>180.0</td>\n      <td>0</td>\n      <td>1</td>\n    </tr>\n    <tr>\n      <th>2</th>\n      <td>3</td>\n      <td>0</td>\n      <td>30.17</td>\n      <td>1.085</td>\n      <td>1</td>\n      <td>1</td>\n      <td>14</td>\n      <td>v</td>\n      <td>0.040</td>\n      <td>f</td>\n      <td>f</td>\n      <td>0</td>\n      <td>f</td>\n      <td>g</td>\n      <td>170.0</td>\n      <td>179</td>\n      <td>1</td>\n    </tr>\n    <tr>\n      <th>3</th>\n      <td>4</td>\n      <td>0</td>\n      <td>22.67</td>\n      <td>2.540</td>\n      <td>1</td>\n      <td>1</td>\n      <td>14</td>\n      <td>h</td>\n      <td>2.585</td>\n      <td>t</td>\n      <td>f</td>\n      <td>0</td>\n      <td>f</td>\n      <td>g</td>\n      <td>0.0</td>\n      <td>0</td>\n      <td>0</td>\n    </tr>\n    <tr>\n      <th>4</th>\n      <td>5</td>\n      <td>1</td>\n      <td>36.00</td>\n      <td>1.000</td>\n      <td>2</td>\n      <td>2</td>\n      <td>14</td>\n      <td>v</td>\n      <td>2.000</td>\n      <td>t</td>\n      <td>t</td>\n      <td>11</td>\n      <td>f</td>\n      <td>g</td>\n      <td>0.0</td>\n      <td>456</td>\n      <td>0</td>\n    </tr>\n  </tbody>\n</table>\n</div>"
          },
          "metadata": {}
        }
      ]
    },
    {
      "metadata": {
        "_cell_guid": "3b94d964-aff5-4d89-ae5e-97c2773a3e5c",
        "_uuid": "7e243a160c9e58b05b272b86cc989359107313b6",
        "trusted": true
      },
      "cell_type": "code",
      "source": "train_df['G'].value_counts()",
      "execution_count": 149,
      "outputs": [
        {
          "output_type": "execute_result",
          "execution_count": 149,
          "data": {
            "text/plain": "v     306\nh     113\nff     44\nbb     41\nz       7\nj       6\ndd      3\no       2\nn       2\nName: G, dtype: int64"
          },
          "metadata": {}
        }
      ]
    },
    {
      "metadata": {
        "_cell_guid": "02f7b314-d1e3-4aaa-92a6-e29aa154f289",
        "_uuid": "35124b1516dac4b21f5d1b667659ec693462c496",
        "trusted": true
      },
      "cell_type": "code",
      "source": "for dataset in combine:\n    dataset['G'] = dataset['G'].map( {'v': 8, 'h': 7, 'ff': 6,'bb': 5,'z': 4,'j': 3,'dd': 2,'o': 1,'n': 0} ).astype(int)\n\ntrain_df.head()",
      "execution_count": 150,
      "outputs": [
        {
          "output_type": "execute_result",
          "execution_count": 150,
          "data": {
            "text/plain": "   id  A      B       C  D  E   F  G      H  I  J   K  L  M      N    O  P\n0   1  0  18.42  10.415  1  1  10  8  0.125  t  f   0  f  g  120.0  375  1\n1   2  1  21.75  11.750  2  2  14  8  0.250  f  f   0  t  g  180.0    0  1\n2   3  0  30.17   1.085  1  1  14  8  0.040  f  f   0  f  g  170.0  179  1\n3   4  0  22.67   2.540  1  1  14  7  2.585  t  f   0  f  g    0.0    0  0\n4   5  1  36.00   1.000  2  2  14  8  2.000  t  t  11  f  g    0.0  456  0",
            "text/html": "<div>\n<style scoped>\n    .dataframe tbody tr th:only-of-type {\n        vertical-align: middle;\n    }\n\n    .dataframe tbody tr th {\n        vertical-align: top;\n    }\n\n    .dataframe thead th {\n        text-align: right;\n    }\n</style>\n<table border=\"1\" class=\"dataframe\">\n  <thead>\n    <tr style=\"text-align: right;\">\n      <th></th>\n      <th>id</th>\n      <th>A</th>\n      <th>B</th>\n      <th>C</th>\n      <th>D</th>\n      <th>E</th>\n      <th>F</th>\n      <th>G</th>\n      <th>H</th>\n      <th>I</th>\n      <th>J</th>\n      <th>K</th>\n      <th>L</th>\n      <th>M</th>\n      <th>N</th>\n      <th>O</th>\n      <th>P</th>\n    </tr>\n  </thead>\n  <tbody>\n    <tr>\n      <th>0</th>\n      <td>1</td>\n      <td>0</td>\n      <td>18.42</td>\n      <td>10.415</td>\n      <td>1</td>\n      <td>1</td>\n      <td>10</td>\n      <td>8</td>\n      <td>0.125</td>\n      <td>t</td>\n      <td>f</td>\n      <td>0</td>\n      <td>f</td>\n      <td>g</td>\n      <td>120.0</td>\n      <td>375</td>\n      <td>1</td>\n    </tr>\n    <tr>\n      <th>1</th>\n      <td>2</td>\n      <td>1</td>\n      <td>21.75</td>\n      <td>11.750</td>\n      <td>2</td>\n      <td>2</td>\n      <td>14</td>\n      <td>8</td>\n      <td>0.250</td>\n      <td>f</td>\n      <td>f</td>\n      <td>0</td>\n      <td>t</td>\n      <td>g</td>\n      <td>180.0</td>\n      <td>0</td>\n      <td>1</td>\n    </tr>\n    <tr>\n      <th>2</th>\n      <td>3</td>\n      <td>0</td>\n      <td>30.17</td>\n      <td>1.085</td>\n      <td>1</td>\n      <td>1</td>\n      <td>14</td>\n      <td>8</td>\n      <td>0.040</td>\n      <td>f</td>\n      <td>f</td>\n      <td>0</td>\n      <td>f</td>\n      <td>g</td>\n      <td>170.0</td>\n      <td>179</td>\n      <td>1</td>\n    </tr>\n    <tr>\n      <th>3</th>\n      <td>4</td>\n      <td>0</td>\n      <td>22.67</td>\n      <td>2.540</td>\n      <td>1</td>\n      <td>1</td>\n      <td>14</td>\n      <td>7</td>\n      <td>2.585</td>\n      <td>t</td>\n      <td>f</td>\n      <td>0</td>\n      <td>f</td>\n      <td>g</td>\n      <td>0.0</td>\n      <td>0</td>\n      <td>0</td>\n    </tr>\n    <tr>\n      <th>4</th>\n      <td>5</td>\n      <td>1</td>\n      <td>36.00</td>\n      <td>1.000</td>\n      <td>2</td>\n      <td>2</td>\n      <td>14</td>\n      <td>8</td>\n      <td>2.000</td>\n      <td>t</td>\n      <td>t</td>\n      <td>11</td>\n      <td>f</td>\n      <td>g</td>\n      <td>0.0</td>\n      <td>456</td>\n      <td>0</td>\n    </tr>\n  </tbody>\n</table>\n</div>"
          },
          "metadata": {}
        }
      ]
    },
    {
      "metadata": {
        "_cell_guid": "8074d54d-fed0-4d15-aa2f-0886b5874937",
        "_uuid": "476b405d4112c50740f57d19057cb037c53b4230",
        "trusted": true
      },
      "cell_type": "code",
      "source": "train_df['I'].value_counts()",
      "execution_count": 151,
      "outputs": [
        {
          "output_type": "execute_result",
          "execution_count": 151,
          "data": {
            "text/plain": "t    277\nf    247\nName: I, dtype: int64"
          },
          "metadata": {}
        }
      ]
    },
    {
      "metadata": {
        "_cell_guid": "b2f008f0-b2f0-46ea-ba6f-a4bae39fb28f",
        "_uuid": "2dd421d8bc9dc3ce64a65d81fa548587c0616855",
        "trusted": true
      },
      "cell_type": "code",
      "source": "for dataset in combine:\n    dataset['I'] = dataset['I'].map( {'t': 1, 'f': 0} ).astype(int)\n\ntrain_df.head()",
      "execution_count": 152,
      "outputs": [
        {
          "output_type": "execute_result",
          "execution_count": 152,
          "data": {
            "text/plain": "   id  A      B       C  D  E   F  G      H  I  J   K  L  M      N    O  P\n0   1  0  18.42  10.415  1  1  10  8  0.125  1  f   0  f  g  120.0  375  1\n1   2  1  21.75  11.750  2  2  14  8  0.250  0  f   0  t  g  180.0    0  1\n2   3  0  30.17   1.085  1  1  14  8  0.040  0  f   0  f  g  170.0  179  1\n3   4  0  22.67   2.540  1  1  14  7  2.585  1  f   0  f  g    0.0    0  0\n4   5  1  36.00   1.000  2  2  14  8  2.000  1  t  11  f  g    0.0  456  0",
            "text/html": "<div>\n<style scoped>\n    .dataframe tbody tr th:only-of-type {\n        vertical-align: middle;\n    }\n\n    .dataframe tbody tr th {\n        vertical-align: top;\n    }\n\n    .dataframe thead th {\n        text-align: right;\n    }\n</style>\n<table border=\"1\" class=\"dataframe\">\n  <thead>\n    <tr style=\"text-align: right;\">\n      <th></th>\n      <th>id</th>\n      <th>A</th>\n      <th>B</th>\n      <th>C</th>\n      <th>D</th>\n      <th>E</th>\n      <th>F</th>\n      <th>G</th>\n      <th>H</th>\n      <th>I</th>\n      <th>J</th>\n      <th>K</th>\n      <th>L</th>\n      <th>M</th>\n      <th>N</th>\n      <th>O</th>\n      <th>P</th>\n    </tr>\n  </thead>\n  <tbody>\n    <tr>\n      <th>0</th>\n      <td>1</td>\n      <td>0</td>\n      <td>18.42</td>\n      <td>10.415</td>\n      <td>1</td>\n      <td>1</td>\n      <td>10</td>\n      <td>8</td>\n      <td>0.125</td>\n      <td>1</td>\n      <td>f</td>\n      <td>0</td>\n      <td>f</td>\n      <td>g</td>\n      <td>120.0</td>\n      <td>375</td>\n      <td>1</td>\n    </tr>\n    <tr>\n      <th>1</th>\n      <td>2</td>\n      <td>1</td>\n      <td>21.75</td>\n      <td>11.750</td>\n      <td>2</td>\n      <td>2</td>\n      <td>14</td>\n      <td>8</td>\n      <td>0.250</td>\n      <td>0</td>\n      <td>f</td>\n      <td>0</td>\n      <td>t</td>\n      <td>g</td>\n      <td>180.0</td>\n      <td>0</td>\n      <td>1</td>\n    </tr>\n    <tr>\n      <th>2</th>\n      <td>3</td>\n      <td>0</td>\n      <td>30.17</td>\n      <td>1.085</td>\n      <td>1</td>\n      <td>1</td>\n      <td>14</td>\n      <td>8</td>\n      <td>0.040</td>\n      <td>0</td>\n      <td>f</td>\n      <td>0</td>\n      <td>f</td>\n      <td>g</td>\n      <td>170.0</td>\n      <td>179</td>\n      <td>1</td>\n    </tr>\n    <tr>\n      <th>3</th>\n      <td>4</td>\n      <td>0</td>\n      <td>22.67</td>\n      <td>2.540</td>\n      <td>1</td>\n      <td>1</td>\n      <td>14</td>\n      <td>7</td>\n      <td>2.585</td>\n      <td>1</td>\n      <td>f</td>\n      <td>0</td>\n      <td>f</td>\n      <td>g</td>\n      <td>0.0</td>\n      <td>0</td>\n      <td>0</td>\n    </tr>\n    <tr>\n      <th>4</th>\n      <td>5</td>\n      <td>1</td>\n      <td>36.00</td>\n      <td>1.000</td>\n      <td>2</td>\n      <td>2</td>\n      <td>14</td>\n      <td>8</td>\n      <td>2.000</td>\n      <td>1</td>\n      <td>t</td>\n      <td>11</td>\n      <td>f</td>\n      <td>g</td>\n      <td>0.0</td>\n      <td>456</td>\n      <td>0</td>\n    </tr>\n  </tbody>\n</table>\n</div>"
          },
          "metadata": {}
        }
      ]
    },
    {
      "metadata": {
        "_cell_guid": "7d957d19-d567-4143-8c6a-e40394fe43ea",
        "_uuid": "e44a67187fd7c08f8e1bfb1d55e174fac12d7579",
        "trusted": true
      },
      "cell_type": "code",
      "source": "train_df['J'].value_counts()",
      "execution_count": 153,
      "outputs": [
        {
          "output_type": "execute_result",
          "execution_count": 153,
          "data": {
            "text/plain": "f    296\nt    228\nName: J, dtype: int64"
          },
          "metadata": {}
        }
      ]
    },
    {
      "metadata": {
        "_cell_guid": "d725c2d8-89cb-4783-a49f-e417bb4edc31",
        "_uuid": "4751616cd4c9022c8d69e66253def748a407449a",
        "trusted": true
      },
      "cell_type": "code",
      "source": "for dataset in combine:\n    dataset['J'] = dataset['J'].map( {'f': 1, 't': 1} ).astype(int)\n\ntrain_df.head()",
      "execution_count": 154,
      "outputs": [
        {
          "output_type": "execute_result",
          "execution_count": 154,
          "data": {
            "text/plain": "   id  A      B       C  D  E   F  G      H  I  J   K  L  M      N    O  P\n0   1  0  18.42  10.415  1  1  10  8  0.125  1  1   0  f  g  120.0  375  1\n1   2  1  21.75  11.750  2  2  14  8  0.250  0  1   0  t  g  180.0    0  1\n2   3  0  30.17   1.085  1  1  14  8  0.040  0  1   0  f  g  170.0  179  1\n3   4  0  22.67   2.540  1  1  14  7  2.585  1  1   0  f  g    0.0    0  0\n4   5  1  36.00   1.000  2  2  14  8  2.000  1  1  11  f  g    0.0  456  0",
            "text/html": "<div>\n<style scoped>\n    .dataframe tbody tr th:only-of-type {\n        vertical-align: middle;\n    }\n\n    .dataframe tbody tr th {\n        vertical-align: top;\n    }\n\n    .dataframe thead th {\n        text-align: right;\n    }\n</style>\n<table border=\"1\" class=\"dataframe\">\n  <thead>\n    <tr style=\"text-align: right;\">\n      <th></th>\n      <th>id</th>\n      <th>A</th>\n      <th>B</th>\n      <th>C</th>\n      <th>D</th>\n      <th>E</th>\n      <th>F</th>\n      <th>G</th>\n      <th>H</th>\n      <th>I</th>\n      <th>J</th>\n      <th>K</th>\n      <th>L</th>\n      <th>M</th>\n      <th>N</th>\n      <th>O</th>\n      <th>P</th>\n    </tr>\n  </thead>\n  <tbody>\n    <tr>\n      <th>0</th>\n      <td>1</td>\n      <td>0</td>\n      <td>18.42</td>\n      <td>10.415</td>\n      <td>1</td>\n      <td>1</td>\n      <td>10</td>\n      <td>8</td>\n      <td>0.125</td>\n      <td>1</td>\n      <td>1</td>\n      <td>0</td>\n      <td>f</td>\n      <td>g</td>\n      <td>120.0</td>\n      <td>375</td>\n      <td>1</td>\n    </tr>\n    <tr>\n      <th>1</th>\n      <td>2</td>\n      <td>1</td>\n      <td>21.75</td>\n      <td>11.750</td>\n      <td>2</td>\n      <td>2</td>\n      <td>14</td>\n      <td>8</td>\n      <td>0.250</td>\n      <td>0</td>\n      <td>1</td>\n      <td>0</td>\n      <td>t</td>\n      <td>g</td>\n      <td>180.0</td>\n      <td>0</td>\n      <td>1</td>\n    </tr>\n    <tr>\n      <th>2</th>\n      <td>3</td>\n      <td>0</td>\n      <td>30.17</td>\n      <td>1.085</td>\n      <td>1</td>\n      <td>1</td>\n      <td>14</td>\n      <td>8</td>\n      <td>0.040</td>\n      <td>0</td>\n      <td>1</td>\n      <td>0</td>\n      <td>f</td>\n      <td>g</td>\n      <td>170.0</td>\n      <td>179</td>\n      <td>1</td>\n    </tr>\n    <tr>\n      <th>3</th>\n      <td>4</td>\n      <td>0</td>\n      <td>22.67</td>\n      <td>2.540</td>\n      <td>1</td>\n      <td>1</td>\n      <td>14</td>\n      <td>7</td>\n      <td>2.585</td>\n      <td>1</td>\n      <td>1</td>\n      <td>0</td>\n      <td>f</td>\n      <td>g</td>\n      <td>0.0</td>\n      <td>0</td>\n      <td>0</td>\n    </tr>\n    <tr>\n      <th>4</th>\n      <td>5</td>\n      <td>1</td>\n      <td>36.00</td>\n      <td>1.000</td>\n      <td>2</td>\n      <td>2</td>\n      <td>14</td>\n      <td>8</td>\n      <td>2.000</td>\n      <td>1</td>\n      <td>1</td>\n      <td>11</td>\n      <td>f</td>\n      <td>g</td>\n      <td>0.0</td>\n      <td>456</td>\n      <td>0</td>\n    </tr>\n  </tbody>\n</table>\n</div>"
          },
          "metadata": {}
        }
      ]
    },
    {
      "metadata": {
        "_cell_guid": "87d12550-e6d6-4029-a607-6dc2bc64f0e5",
        "_uuid": "f4410dc055fda926f4ff9d448116d9802739850e",
        "trusted": true
      },
      "cell_type": "code",
      "source": "train_df['L'].value_counts()",
      "execution_count": 155,
      "outputs": [
        {
          "output_type": "execute_result",
          "execution_count": 155,
          "data": {
            "text/plain": "f    282\nt    242\nName: L, dtype: int64"
          },
          "metadata": {}
        }
      ]
    },
    {
      "metadata": {
        "_cell_guid": "68b70daa-90a5-49bc-aa4a-9c80c3c50232",
        "_uuid": "6738abf56bfc8975c5a3d7253afc943d8cb20cd2",
        "trusted": true
      },
      "cell_type": "code",
      "source": "for dataset in combine:\n    dataset['L'] = dataset['L'].map( {'f': 1, 't': 0} ).astype(int)\n\ntrain_df.head()",
      "execution_count": 156,
      "outputs": [
        {
          "output_type": "execute_result",
          "execution_count": 156,
          "data": {
            "text/plain": "   id  A      B       C  D  E   F  G      H  I  J   K  L  M      N    O  P\n0   1  0  18.42  10.415  1  1  10  8  0.125  1  1   0  1  g  120.0  375  1\n1   2  1  21.75  11.750  2  2  14  8  0.250  0  1   0  0  g  180.0    0  1\n2   3  0  30.17   1.085  1  1  14  8  0.040  0  1   0  1  g  170.0  179  1\n3   4  0  22.67   2.540  1  1  14  7  2.585  1  1   0  1  g    0.0    0  0\n4   5  1  36.00   1.000  2  2  14  8  2.000  1  1  11  1  g    0.0  456  0",
            "text/html": "<div>\n<style scoped>\n    .dataframe tbody tr th:only-of-type {\n        vertical-align: middle;\n    }\n\n    .dataframe tbody tr th {\n        vertical-align: top;\n    }\n\n    .dataframe thead th {\n        text-align: right;\n    }\n</style>\n<table border=\"1\" class=\"dataframe\">\n  <thead>\n    <tr style=\"text-align: right;\">\n      <th></th>\n      <th>id</th>\n      <th>A</th>\n      <th>B</th>\n      <th>C</th>\n      <th>D</th>\n      <th>E</th>\n      <th>F</th>\n      <th>G</th>\n      <th>H</th>\n      <th>I</th>\n      <th>J</th>\n      <th>K</th>\n      <th>L</th>\n      <th>M</th>\n      <th>N</th>\n      <th>O</th>\n      <th>P</th>\n    </tr>\n  </thead>\n  <tbody>\n    <tr>\n      <th>0</th>\n      <td>1</td>\n      <td>0</td>\n      <td>18.42</td>\n      <td>10.415</td>\n      <td>1</td>\n      <td>1</td>\n      <td>10</td>\n      <td>8</td>\n      <td>0.125</td>\n      <td>1</td>\n      <td>1</td>\n      <td>0</td>\n      <td>1</td>\n      <td>g</td>\n      <td>120.0</td>\n      <td>375</td>\n      <td>1</td>\n    </tr>\n    <tr>\n      <th>1</th>\n      <td>2</td>\n      <td>1</td>\n      <td>21.75</td>\n      <td>11.750</td>\n      <td>2</td>\n      <td>2</td>\n      <td>14</td>\n      <td>8</td>\n      <td>0.250</td>\n      <td>0</td>\n      <td>1</td>\n      <td>0</td>\n      <td>0</td>\n      <td>g</td>\n      <td>180.0</td>\n      <td>0</td>\n      <td>1</td>\n    </tr>\n    <tr>\n      <th>2</th>\n      <td>3</td>\n      <td>0</td>\n      <td>30.17</td>\n      <td>1.085</td>\n      <td>1</td>\n      <td>1</td>\n      <td>14</td>\n      <td>8</td>\n      <td>0.040</td>\n      <td>0</td>\n      <td>1</td>\n      <td>0</td>\n      <td>1</td>\n      <td>g</td>\n      <td>170.0</td>\n      <td>179</td>\n      <td>1</td>\n    </tr>\n    <tr>\n      <th>3</th>\n      <td>4</td>\n      <td>0</td>\n      <td>22.67</td>\n      <td>2.540</td>\n      <td>1</td>\n      <td>1</td>\n      <td>14</td>\n      <td>7</td>\n      <td>2.585</td>\n      <td>1</td>\n      <td>1</td>\n      <td>0</td>\n      <td>1</td>\n      <td>g</td>\n      <td>0.0</td>\n      <td>0</td>\n      <td>0</td>\n    </tr>\n    <tr>\n      <th>4</th>\n      <td>5</td>\n      <td>1</td>\n      <td>36.00</td>\n      <td>1.000</td>\n      <td>2</td>\n      <td>2</td>\n      <td>14</td>\n      <td>8</td>\n      <td>2.000</td>\n      <td>1</td>\n      <td>1</td>\n      <td>11</td>\n      <td>1</td>\n      <td>g</td>\n      <td>0.0</td>\n      <td>456</td>\n      <td>0</td>\n    </tr>\n  </tbody>\n</table>\n</div>"
          },
          "metadata": {}
        }
      ]
    },
    {
      "metadata": {
        "_cell_guid": "ac6dba3f-5667-4446-8439-ec3d29b6ee84",
        "_uuid": "a3e861e83b527351d91504228ba3db1510f712c4",
        "trusted": true
      },
      "cell_type": "code",
      "source": "train_df['M'].value_counts()",
      "execution_count": 157,
      "outputs": [
        {
          "output_type": "execute_result",
          "execution_count": 157,
          "data": {
            "text/plain": "g    476\ns     46\np      2\nName: M, dtype: int64"
          },
          "metadata": {}
        }
      ]
    },
    {
      "metadata": {
        "_cell_guid": "53802d39-0c75-4158-a2c3-584737f06fc6",
        "_uuid": "58ece2cb01ce5e566e24e69f16cfb163e0188c14",
        "trusted": true
      },
      "cell_type": "code",
      "source": "for dataset in combine:\n    dataset['M'] = dataset['M'].map( {'g': 2, 's': 1, 'p': 0} ).astype(int)\n\ntrain_df.head()",
      "execution_count": 158,
      "outputs": [
        {
          "output_type": "execute_result",
          "execution_count": 158,
          "data": {
            "text/plain": "   id  A      B       C  D  E   F  G      H  I  J   K  L  M      N    O  P\n0   1  0  18.42  10.415  1  1  10  8  0.125  1  1   0  1  2  120.0  375  1\n1   2  1  21.75  11.750  2  2  14  8  0.250  0  1   0  0  2  180.0    0  1\n2   3  0  30.17   1.085  1  1  14  8  0.040  0  1   0  1  2  170.0  179  1\n3   4  0  22.67   2.540  1  1  14  7  2.585  1  1   0  1  2    0.0    0  0\n4   5  1  36.00   1.000  2  2  14  8  2.000  1  1  11  1  2    0.0  456  0",
            "text/html": "<div>\n<style scoped>\n    .dataframe tbody tr th:only-of-type {\n        vertical-align: middle;\n    }\n\n    .dataframe tbody tr th {\n        vertical-align: top;\n    }\n\n    .dataframe thead th {\n        text-align: right;\n    }\n</style>\n<table border=\"1\" class=\"dataframe\">\n  <thead>\n    <tr style=\"text-align: right;\">\n      <th></th>\n      <th>id</th>\n      <th>A</th>\n      <th>B</th>\n      <th>C</th>\n      <th>D</th>\n      <th>E</th>\n      <th>F</th>\n      <th>G</th>\n      <th>H</th>\n      <th>I</th>\n      <th>J</th>\n      <th>K</th>\n      <th>L</th>\n      <th>M</th>\n      <th>N</th>\n      <th>O</th>\n      <th>P</th>\n    </tr>\n  </thead>\n  <tbody>\n    <tr>\n      <th>0</th>\n      <td>1</td>\n      <td>0</td>\n      <td>18.42</td>\n      <td>10.415</td>\n      <td>1</td>\n      <td>1</td>\n      <td>10</td>\n      <td>8</td>\n      <td>0.125</td>\n      <td>1</td>\n      <td>1</td>\n      <td>0</td>\n      <td>1</td>\n      <td>2</td>\n      <td>120.0</td>\n      <td>375</td>\n      <td>1</td>\n    </tr>\n    <tr>\n      <th>1</th>\n      <td>2</td>\n      <td>1</td>\n      <td>21.75</td>\n      <td>11.750</td>\n      <td>2</td>\n      <td>2</td>\n      <td>14</td>\n      <td>8</td>\n      <td>0.250</td>\n      <td>0</td>\n      <td>1</td>\n      <td>0</td>\n      <td>0</td>\n      <td>2</td>\n      <td>180.0</td>\n      <td>0</td>\n      <td>1</td>\n    </tr>\n    <tr>\n      <th>2</th>\n      <td>3</td>\n      <td>0</td>\n      <td>30.17</td>\n      <td>1.085</td>\n      <td>1</td>\n      <td>1</td>\n      <td>14</td>\n      <td>8</td>\n      <td>0.040</td>\n      <td>0</td>\n      <td>1</td>\n      <td>0</td>\n      <td>1</td>\n      <td>2</td>\n      <td>170.0</td>\n      <td>179</td>\n      <td>1</td>\n    </tr>\n    <tr>\n      <th>3</th>\n      <td>4</td>\n      <td>0</td>\n      <td>22.67</td>\n      <td>2.540</td>\n      <td>1</td>\n      <td>1</td>\n      <td>14</td>\n      <td>7</td>\n      <td>2.585</td>\n      <td>1</td>\n      <td>1</td>\n      <td>0</td>\n      <td>1</td>\n      <td>2</td>\n      <td>0.0</td>\n      <td>0</td>\n      <td>0</td>\n    </tr>\n    <tr>\n      <th>4</th>\n      <td>5</td>\n      <td>1</td>\n      <td>36.00</td>\n      <td>1.000</td>\n      <td>2</td>\n      <td>2</td>\n      <td>14</td>\n      <td>8</td>\n      <td>2.000</td>\n      <td>1</td>\n      <td>1</td>\n      <td>11</td>\n      <td>1</td>\n      <td>2</td>\n      <td>0.0</td>\n      <td>456</td>\n      <td>0</td>\n    </tr>\n  </tbody>\n</table>\n</div>"
          },
          "metadata": {}
        }
      ]
    },
    {
      "metadata": {
        "_uuid": "3b9a5097643a03511c7a0c7b1421547fc29a160a",
        "_cell_guid": "251f6cb8-382d-4a90-b5b1-1f503cad8f87",
        "trusted": true
      },
      "cell_type": "code",
      "source": "",
      "execution_count": null,
      "outputs": []
    },
    {
      "metadata": {
        "trusted": true,
        "_uuid": "f26ed32d9c1c0682670c9c0c40a76350587adb92"
      },
      "cell_type": "code",
      "source": "",
      "execution_count": null,
      "outputs": []
    },
    {
      "metadata": {
        "trusted": true,
        "collapsed": true,
        "_uuid": "eec79dd56152559027ed9552cf1316c560841e92"
      },
      "cell_type": "code",
      "source": "",
      "execution_count": null,
      "outputs": []
    }
  ],
  "metadata": {
    "kernelspec": {
      "display_name": "Python 3",
      "language": "python",
      "name": "python3"
    },
    "language_info": {
      "name": "python",
      "version": "3.6.5",
      "mimetype": "text/x-python",
      "codemirror_mode": {
        "name": "ipython",
        "version": 3
      },
      "pygments_lexer": "ipython3",
      "nbconvert_exporter": "python",
      "file_extension": ".py"
    }
  },
  "nbformat": 4,
  "nbformat_minor": 1
}