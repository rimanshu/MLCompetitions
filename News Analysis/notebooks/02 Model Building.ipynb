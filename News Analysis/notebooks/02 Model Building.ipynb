{
  "cells": [
    {
      "metadata": {
        "_uuid": "8f2839f25d086af736a60e9eeb907d3b93b6e0e5",
        "_cell_guid": "b1076dfc-b9ad-4769-8c92-a6c4dae69d19",
        "trusted": true
      },
      "cell_type": "code",
      "source": "import numpy as np\nimport pandas as pd\nfrom sklearn.preprocessing import LabelEncoder\nimport datetime as dt\n\nfrom nltk.corpus import stopwords\nfrom nltk.stem import PorterStemmer\n\nimport re\nimport pickle\nfrom scipy.sparse import hstack\n\n\nfrom sklearn import preprocessing, decomposition, model_selection, metrics, pipeline\nfrom sklearn.feature_extraction.text import TfidfVectorizer, CountVectorizer\nfrom sklearn.model_selection import train_test_split,cross_val_score\nfrom sklearn.naive_bayes import MultinomialNB\nfrom sklearn.metrics import accuracy_score, make_scorer\n\nimport os\nprint(os.listdir(\"../input/\"))\n\n# set seed for reproducibility\nnp.random.seed(0)",
      "execution_count": 1,
      "outputs": [
        {
          "output_type": "stream",
          "text": "['__output__.json', 'newsdata.csv']\n",
          "name": "stdout"
        }
      ]
    },
    {
      "metadata": {
        "_cell_guid": "79c7e3d0-c299-4dcb-8224-4455121ee9b0",
        "_uuid": "d629ff2d2480ee46fbb7e2d37f6b5fab8052498a",
        "trusted": true
      },
      "cell_type": "code",
      "source": "# Load Data and also parse the dates\nprint(\"Loading data...\")\ntrain = pd.read_csv('../input/newsdata.csv', parse_dates=[\"date\"])\nprint(\"Train shape:\", train.shape)",
      "execution_count": 3,
      "outputs": [
        {
          "output_type": "stream",
          "text": "Loading data...\nTrain shape: (124989, 6)\n",
          "name": "stdout"
        }
      ]
    },
    {
      "metadata": {
        "trusted": true,
        "_uuid": "3f06ad9dd6404e2059f0059f99b6c5bcf05f5d29"
      },
      "cell_type": "code",
      "source": "# check data types of the object\n\ntrain.info()",
      "execution_count": 4,
      "outputs": [
        {
          "output_type": "stream",
          "text": "<class 'pandas.core.frame.DataFrame'>\nRangeIndex: 124989 entries, 0 to 124988\nData columns (total 6 columns):\nauthors              110838 non-null object\ncategory             124989 non-null object\ndate                 124989 non-null datetime64[ns]\nheadline             124983 non-null object\nlink                 124989 non-null object\nshort_description    105399 non-null object\ndtypes: datetime64[ns](1), object(5)\nmemory usage: 5.7+ MB\n",
          "name": "stdout"
        }
      ]
    },
    {
      "metadata": {
        "trusted": true,
        "_uuid": "d9801d0a67c350fa62e99e8d3add18fdcf6f985f"
      },
      "cell_type": "code",
      "source": "train.head()",
      "execution_count": 5,
      "outputs": [
        {
          "output_type": "execute_result",
          "execution_count": 5,
          "data": {
            "text/plain": "           authors                        ...                                                          short_description\n0  Melissa Jeltsen                        ...                          She left her husband. He killed their children...\n1    Andy McDonald                        ...                                                   Of course it has a song.\n2       Ron Dicker                        ...                          The actor and his longtime girlfriend Anna Ebe...\n3       Ron Dicker                        ...                          The actor gives Dems an ass-kicking for not fi...\n4       Ron Dicker                        ...                          The \"Dietland\" actress said using the bags is ...\n\n[5 rows x 6 columns]",
            "text/html": "<div>\n<style scoped>\n    .dataframe tbody tr th:only-of-type {\n        vertical-align: middle;\n    }\n\n    .dataframe tbody tr th {\n        vertical-align: top;\n    }\n\n    .dataframe thead th {\n        text-align: right;\n    }\n</style>\n<table border=\"1\" class=\"dataframe\">\n  <thead>\n    <tr style=\"text-align: right;\">\n      <th></th>\n      <th>authors</th>\n      <th>category</th>\n      <th>date</th>\n      <th>headline</th>\n      <th>link</th>\n      <th>short_description</th>\n    </tr>\n  </thead>\n  <tbody>\n    <tr>\n      <th>0</th>\n      <td>Melissa Jeltsen</td>\n      <td>CRIME</td>\n      <td>2018-05-26</td>\n      <td>There Were 2 Mass Shootings In Texas Last Week...</td>\n      <td>https://www.huffingtonpost.com/entry/texas-ama...</td>\n      <td>She left her husband. He killed their children...</td>\n    </tr>\n    <tr>\n      <th>1</th>\n      <td>Andy McDonald</td>\n      <td>ENTERTAINMENT</td>\n      <td>2018-05-26</td>\n      <td>Will Smith Joins Diplo And Nicky Jam For The 2...</td>\n      <td>https://www.huffingtonpost.com/entry/will-smit...</td>\n      <td>Of course it has a song.</td>\n    </tr>\n    <tr>\n      <th>2</th>\n      <td>Ron Dicker</td>\n      <td>ENTERTAINMENT</td>\n      <td>2018-05-26</td>\n      <td>Hugh Grant Marries For The First Time At Age 57</td>\n      <td>https://www.huffingtonpost.com/entry/hugh-gran...</td>\n      <td>The actor and his longtime girlfriend Anna Ebe...</td>\n    </tr>\n    <tr>\n      <th>3</th>\n      <td>Ron Dicker</td>\n      <td>ENTERTAINMENT</td>\n      <td>2018-05-26</td>\n      <td>Jim Carrey Blasts 'Castrato' Adam Schiff And D...</td>\n      <td>https://www.huffingtonpost.com/entry/jim-carre...</td>\n      <td>The actor gives Dems an ass-kicking for not fi...</td>\n    </tr>\n    <tr>\n      <th>4</th>\n      <td>Ron Dicker</td>\n      <td>ENTERTAINMENT</td>\n      <td>2018-05-26</td>\n      <td>Julianna Margulies Uses Donald Trump Poop Bags...</td>\n      <td>https://www.huffingtonpost.com/entry/julianna-...</td>\n      <td>The \"Dietland\" actress said using the bags is ...</td>\n    </tr>\n  </tbody>\n</table>\n</div>"
          },
          "metadata": {}
        }
      ]
    },
    {
      "metadata": {
        "trusted": true,
        "_uuid": "4f5590e38d9e72f9d60b8d96f1bd1e4e9225bdd4"
      },
      "cell_type": "code",
      "source": "train['category'].value_counts()",
      "execution_count": 6,
      "outputs": [
        {
          "output_type": "execute_result",
          "execution_count": 6,
          "data": {
            "text/plain": "POLITICS          32739\nENTERTAINMENT     14257\nHEALTHY LIVING     6694\nQUEER VOICES       4995\nBUSINESS           4254\nSPORTS             4167\nCOMEDY             3971\nPARENTS            3955\nBLACK VOICES       3858\nTHE WORLDPOST      3664\nWOMEN              3490\nCRIME              2893\nMEDIA              2815\nWEIRD NEWS         2670\nGREEN              2622\nIMPACT             2602\nWORLDPOST          2579\nRELIGION           2556\nSTYLE              2254\nWORLD NEWS         2177\nTRAVEL             2145\nTASTE              2096\nARTS               1509\nFIFTY              1401\nGOOD NEWS          1398\nSCIENCE            1381\nARTS & CULTURE     1339\nTECH               1231\nCOLLEGE            1144\nLATINO VOICES      1129\nEDUCATION          1004\nName: category, dtype: int64"
          },
          "metadata": {}
        }
      ]
    },
    {
      "metadata": {
        "trusted": true,
        "_uuid": "6393b8285c318616245b694f3259f44fd8b20667"
      },
      "cell_type": "code",
      "source": "%env JOBLIB_TEMP_FOLDER=/tmp\n# Check the first headline\n\nprint('The first headline is:\\n\\n',train[\"headline\"][0])\n# Check the first short description\nprint('The first description is:\\n\\n',train[\"short_description\"][0])",
      "execution_count": 33,
      "outputs": [
        {
          "output_type": "stream",
          "text": "env: JOBLIB_TEMP_FOLDER=/tmp\nThe first headline is:\n\n 2 mass shoot texa last week 1 tv\nThe first description is:\n\n left husband kill children anoth day america\n",
          "name": "stdout"
        }
      ]
    },
    {
      "metadata": {
        "_uuid": "2dff2ed980bad3ccb7c499cecf9500b61f20d3c7"
      },
      "cell_type": "markdown",
      "source": "## Feature Engineering"
    },
    {
      "metadata": {
        "trusted": true,
        "_uuid": "b0e6a18c15169a0c32991b10eb4e26cb261e2ecc"
      },
      "cell_type": "code",
      "source": "# extracting datetime features using datetime module\n# Value of year\ntrain[\"Year\"] = train[\"date\"].dt.year\n\n# Month number (values between 1 to 12) \ntrain[\"Month\"] = train[\"date\"].dt.month\n\n# Week Day value (values between 1 to 7)\ntrain['Weekday'] = train['date'].dt.weekday\n\n# Value of time hour (values between 0 to 23)\ntrain[\"Hour\"] = train['date'].dt.hour\n\n# Year Day (values between 1 to 365)\ntrain[\"Month_Day\"] = train['date'].dt.day\n\n# Month Day (values between 1 to 31)\ntrain[\"Year_Day\"] = train['date'].dt.dayofyear",
      "execution_count": 8,
      "outputs": []
    },
    {
      "metadata": {
        "trusted": true,
        "_uuid": "7f9808033979cfb9bdf18235c7cc8f35c992f619"
      },
      "cell_type": "code",
      "source": "train.head(2)",
      "execution_count": 9,
      "outputs": [
        {
          "output_type": "execute_result",
          "execution_count": 9,
          "data": {
            "text/plain": "           authors       category   ...    Month_Day Year_Day\n0  Melissa Jeltsen          CRIME   ...           26      146\n1    Andy McDonald  ENTERTAINMENT   ...           26      146\n\n[2 rows x 12 columns]",
            "text/html": "<div>\n<style scoped>\n    .dataframe tbody tr th:only-of-type {\n        vertical-align: middle;\n    }\n\n    .dataframe tbody tr th {\n        vertical-align: top;\n    }\n\n    .dataframe thead th {\n        text-align: right;\n    }\n</style>\n<table border=\"1\" class=\"dataframe\">\n  <thead>\n    <tr style=\"text-align: right;\">\n      <th></th>\n      <th>authors</th>\n      <th>category</th>\n      <th>date</th>\n      <th>headline</th>\n      <th>link</th>\n      <th>short_description</th>\n      <th>Year</th>\n      <th>Month</th>\n      <th>Weekday</th>\n      <th>Hour</th>\n      <th>Month_Day</th>\n      <th>Year_Day</th>\n    </tr>\n  </thead>\n  <tbody>\n    <tr>\n      <th>0</th>\n      <td>Melissa Jeltsen</td>\n      <td>CRIME</td>\n      <td>2018-05-26</td>\n      <td>There Were 2 Mass Shootings In Texas Last Week...</td>\n      <td>https://www.huffingtonpost.com/entry/texas-ama...</td>\n      <td>She left her husband. He killed their children...</td>\n      <td>2018</td>\n      <td>5</td>\n      <td>5</td>\n      <td>0</td>\n      <td>26</td>\n      <td>146</td>\n    </tr>\n    <tr>\n      <th>1</th>\n      <td>Andy McDonald</td>\n      <td>ENTERTAINMENT</td>\n      <td>2018-05-26</td>\n      <td>Will Smith Joins Diplo And Nicky Jam For The 2...</td>\n      <td>https://www.huffingtonpost.com/entry/will-smit...</td>\n      <td>Of course it has a song.</td>\n      <td>2018</td>\n      <td>5</td>\n      <td>5</td>\n      <td>0</td>\n      <td>26</td>\n      <td>146</td>\n    </tr>\n  </tbody>\n</table>\n</div>"
          },
          "metadata": {}
        }
      ]
    },
    {
      "metadata": {
        "trusted": true,
        "_uuid": "0deb34239ff57172b8092e6ad9c71d8681a1dc7d"
      },
      "cell_type": "code",
      "source": "# Drop date column\ncol = ['date','link']\ntrain = train.drop(col,axis = 1)",
      "execution_count": 10,
      "outputs": []
    },
    {
      "metadata": {
        "trusted": true,
        "_uuid": "49c641b1c8a5606f614a7268f7b2de8ed3366066"
      },
      "cell_type": "code",
      "source": "train.head(2)",
      "execution_count": 11,
      "outputs": [
        {
          "output_type": "execute_result",
          "execution_count": 11,
          "data": {
            "text/plain": "           authors       category   ...    Month_Day Year_Day\n0  Melissa Jeltsen          CRIME   ...           26      146\n1    Andy McDonald  ENTERTAINMENT   ...           26      146\n\n[2 rows x 10 columns]",
            "text/html": "<div>\n<style scoped>\n    .dataframe tbody tr th:only-of-type {\n        vertical-align: middle;\n    }\n\n    .dataframe tbody tr th {\n        vertical-align: top;\n    }\n\n    .dataframe thead th {\n        text-align: right;\n    }\n</style>\n<table border=\"1\" class=\"dataframe\">\n  <thead>\n    <tr style=\"text-align: right;\">\n      <th></th>\n      <th>authors</th>\n      <th>category</th>\n      <th>headline</th>\n      <th>short_description</th>\n      <th>Year</th>\n      <th>Month</th>\n      <th>Weekday</th>\n      <th>Hour</th>\n      <th>Month_Day</th>\n      <th>Year_Day</th>\n    </tr>\n  </thead>\n  <tbody>\n    <tr>\n      <th>0</th>\n      <td>Melissa Jeltsen</td>\n      <td>CRIME</td>\n      <td>There Were 2 Mass Shootings In Texas Last Week...</td>\n      <td>She left her husband. He killed their children...</td>\n      <td>2018</td>\n      <td>5</td>\n      <td>5</td>\n      <td>0</td>\n      <td>26</td>\n      <td>146</td>\n    </tr>\n    <tr>\n      <th>1</th>\n      <td>Andy McDonald</td>\n      <td>ENTERTAINMENT</td>\n      <td>Will Smith Joins Diplo And Nicky Jam For The 2...</td>\n      <td>Of course it has a song.</td>\n      <td>2018</td>\n      <td>5</td>\n      <td>5</td>\n      <td>0</td>\n      <td>26</td>\n      <td>146</td>\n    </tr>\n  </tbody>\n</table>\n</div>"
          },
          "metadata": {}
        }
      ]
    },
    {
      "metadata": {
        "trusted": true,
        "_uuid": "f95379c894baa8b11184ec2863af550ab52e0811"
      },
      "cell_type": "code",
      "source": "missing_df = train.isnull().sum(axis=0).reset_index()\nmissing_df.columns = ['column_name', 'missing_count']\nmissing_df = missing_df[missing_df['missing_count']>0]\nmissing_df = missing_df.sort_values(by='missing_count')\nmissing_df",
      "execution_count": 12,
      "outputs": [
        {
          "output_type": "execute_result",
          "execution_count": 12,
          "data": {
            "text/plain": "         column_name  missing_count\n2           headline              6\n0            authors          14151\n3  short_description          19590",
            "text/html": "<div>\n<style scoped>\n    .dataframe tbody tr th:only-of-type {\n        vertical-align: middle;\n    }\n\n    .dataframe tbody tr th {\n        vertical-align: top;\n    }\n\n    .dataframe thead th {\n        text-align: right;\n    }\n</style>\n<table border=\"1\" class=\"dataframe\">\n  <thead>\n    <tr style=\"text-align: right;\">\n      <th></th>\n      <th>column_name</th>\n      <th>missing_count</th>\n    </tr>\n  </thead>\n  <tbody>\n    <tr>\n      <th>2</th>\n      <td>headline</td>\n      <td>6</td>\n    </tr>\n    <tr>\n      <th>0</th>\n      <td>authors</td>\n      <td>14151</td>\n    </tr>\n    <tr>\n      <th>3</th>\n      <td>short_description</td>\n      <td>19590</td>\n    </tr>\n  </tbody>\n</table>\n</div>"
          },
          "metadata": {}
        }
      ]
    },
    {
      "metadata": {
        "_uuid": "4887ecf38c75dea496ce764f48ea3388335331a3"
      },
      "cell_type": "markdown",
      "source": "Let's get rid of them. "
    },
    {
      "metadata": {
        "trusted": true,
        "_uuid": "b5312ec0e1820385b97dda416c7af9d914dd185e"
      },
      "cell_type": "code",
      "source": "train = train.drop_duplicates() # Drop duplicates rows",
      "execution_count": 13,
      "outputs": []
    },
    {
      "metadata": {
        "trusted": true,
        "_uuid": "18aad006d1f9453ca59449a2b1a532fe75b8989c"
      },
      "cell_type": "code",
      "source": "train = train.dropna() # Drop rows containing Nan values",
      "execution_count": 14,
      "outputs": []
    },
    {
      "metadata": {
        "trusted": true,
        "_uuid": "51131fd19570cff0c31ec6d65fcf4d4cee7f6bd0"
      },
      "cell_type": "code",
      "source": "# function to clean data\n\nstops = set(stopwords.words(\"english\"))\ndef cleanData(text, lowercase = False, remove_stops = False, stemming = False):\n    txt = str(text)\n    txt = re.sub(r'[^A-Za-z0-9\\s]',r'',txt)\n    txt = re.sub(r'\\n',r' ',txt)\n    \n    if lowercase:\n        txt = \" \".join([w.lower() for w in txt.split()])\n        \n    if remove_stops:\n        txt = \" \".join([w for w in txt.split() if w not in stops])\n    \n    if stemming:\n        st = PorterStemmer()\n        txt = \" \".join([st.stem(w) for w in txt.split()])\n\n    return txt",
      "execution_count": 15,
      "outputs": []
    },
    {
      "metadata": {
        "trusted": true,
        "_uuid": "67828c75e4496ac1b06bdcdd8775ba3b6dd1390e"
      },
      "cell_type": "code",
      "source": "# clean description\ntrain['headline'] = train['headline'].map(lambda x: cleanData(x, lowercase=True, remove_stops=True, stemming=True))\ntrain['short_description'] = train['short_description'].map(lambda x: cleanData(x, lowercase=True, remove_stops=True, stemming=True))",
      "execution_count": 16,
      "outputs": []
    },
    {
      "metadata": {
        "trusted": true,
        "_uuid": "0c1fa24801848e73fa191d8aa862550009a50918"
      },
      "cell_type": "code",
      "source": "# label encode categorical features in data given\ncols = ['authors','category']\n\nfor x in cols:\n    lbl = LabelEncoder()\n    train[x] = lbl.fit_transform(train[x])",
      "execution_count": 17,
      "outputs": []
    },
    {
      "metadata": {
        "trusted": true,
        "_uuid": "bce7e9de8454c270e683554577232d2c897007fa"
      },
      "cell_type": "code",
      "source": "train['authors'].max()",
      "execution_count": 18,
      "outputs": [
        {
          "output_type": "execute_result",
          "execution_count": 18,
          "data": {
            "text/plain": "18356"
          },
          "metadata": {}
        }
      ]
    },
    {
      "metadata": {
        "trusted": true,
        "_uuid": "bc0fb37996647e71ea320824d7514b61b961167b"
      },
      "cell_type": "code",
      "source": "train['category'].max()",
      "execution_count": 19,
      "outputs": [
        {
          "output_type": "execute_result",
          "execution_count": 19,
          "data": {
            "text/plain": "30"
          },
          "metadata": {}
        }
      ]
    },
    {
      "metadata": {
        "trusted": true,
        "_uuid": "ff77fbd7aed2cfb8c0e89bdb171ccd0224a87099"
      },
      "cell_type": "code",
      "source": "y = train['category']",
      "execution_count": 20,
      "outputs": []
    },
    {
      "metadata": {
        "trusted": true,
        "_uuid": "24b805e05ef9fee2b81d910112e7ef6e39d99712"
      },
      "cell_type": "code",
      "source": "features_df = train[['authors', 'Year','Month', 'Weekday', 'Hour', 'Month_Day', 'Year_Day']]",
      "execution_count": 21,
      "outputs": []
    },
    {
      "metadata": {
        "trusted": true,
        "_uuid": "0845b57b73feaf438a7a2f8913c99ac9be625648"
      },
      "cell_type": "code",
      "source": "scorer = make_scorer(accuracy_score, greater_is_better=True)",
      "execution_count": 22,
      "outputs": []
    },
    {
      "metadata": {
        "trusted": true,
        "_uuid": "29b79593a2d30e61eb90dd151a88bb4b4a35c86e"
      },
      "cell_type": "code",
      "source": "import warnings \nfrom sklearn.exceptions import ConvergenceWarning\n\n# Filter out warnings from models\nwarnings.filterwarnings('ignore', category = ConvergenceWarning)\nwarnings.filterwarnings('ignore', category = DeprecationWarning)\nwarnings.filterwarnings('ignore', category = UserWarning)\n\n# Dataframe to hold results\nmodel_results = pd.DataFrame(columns = ['model', 'cv_mean', 'cv_std'])\n\ndef cv_model(train, train_labels, model, name, model_results=None):\n    \"\"\"Perform 3 fold cross validation of a model\"\"\"\n    cv_scores = cross_val_score(model, train, train_labels, cv = 3, scoring=scorer, n_jobs = -1)\n    print(f'3 Fold CV Score: {round(cv_scores.mean(), 5)} with std: {round(cv_scores.std(), 5)}')\n    \n    if model_results is not None:\n        model_results = model_results.append(pd.DataFrame({'model': name, \n                                                           'cv_mean': cv_scores.mean(), \n                                                            'cv_std': cv_scores.std()},\n                                                           index = [0]),\n                                             ignore_index = True)\n\n        return model_results",
      "execution_count": 23,
      "outputs": []
    },
    {
      "metadata": {
        "trusted": true,
        "_uuid": "9bc66a15de758f46e6062df3cc57a453fcde9c66"
      },
      "cell_type": "code",
      "source": "# Bag of Words (word based) for headline\nctv_word0 = CountVectorizer(analyzer='word',token_pattern=r'\\w{1,}',min_df = 200, max_features=5000,\n            ngram_range=(1,2), stop_words = 'english')\n\n# Fitting CountVectorizer to training sets\nctv_word0.fit(list(train['headline']))\nctv_word_headline =  ctv_word0.transform(train['headline'])",
      "execution_count": 24,
      "outputs": []
    },
    {
      "metadata": {
        "trusted": true,
        "_uuid": "fc8ed86efe32d54c7f8504481f508b5157356db2"
      },
      "cell_type": "code",
      "source": "# Bag of Words (word based) for short description\nctv_word1 = CountVectorizer(analyzer='word',token_pattern=r'\\w{1,}',min_df = 200, max_features=10000,\n            ngram_range=(2,6), stop_words = 'english')\n\n# Fitting CountVectorizer to training sets\nctv_word1.fit(list(train['short_description']))\nctv_word_desc =  ctv_word1.transform(train['short_description'])",
      "execution_count": 25,
      "outputs": []
    },
    {
      "metadata": {
        "trusted": true,
        "_uuid": "03aeb9c8ea7b3008d5d9bd3638c052b63ec1e2ab"
      },
      "cell_type": "code",
      "source": "# TF - IDF (words) for headline\n\ntfv_word0 = TfidfVectorizer(min_df=150,  max_features= 5000, \n            strip_accents='unicode', analyzer='word',token_pattern=r'\\w{1,}',\n            ngram_range=(1,2),\n            stop_words = 'english')\n\n# Fitting TF-IDF to training set\ntfv_word0.fit(list(train['headline']))\ntfv_word_headline =  tfv_word0.transform(train['headline'])",
      "execution_count": 26,
      "outputs": []
    },
    {
      "metadata": {
        "trusted": true,
        "_uuid": "ee0719c34308192c07cc3ef0993a819a3de6f687"
      },
      "cell_type": "code",
      "source": "# TF - IDF (words) for short description\n\ntfv_word1 = TfidfVectorizer(min_df=150,  max_features= 5000, \n            strip_accents='unicode', analyzer='word',token_pattern=r'\\w{1,}',\n            ngram_range=(1,2),\n            stop_words = 'english')\n\n# Fitting TF-IDF to training sets\ntfv_word1.fit(list(train['short_description']))\ntfv_word_desc =  tfv_word1.transform(train['short_description'])",
      "execution_count": 27,
      "outputs": []
    },
    {
      "metadata": {
        "trusted": true,
        "_uuid": "7cfbbf328c8e3ccfc0304f52d1295a10ab27e6a4"
      },
      "cell_type": "code",
      "source": "# bag of words for training set (headline + description)\ntrain_bow = hstack([ctv_word_headline, ctv_word_desc])\n# create dataframe for features\nbow_df = pd.DataFrame(train_bow.todense())",
      "execution_count": 28,
      "outputs": []
    },
    {
      "metadata": {
        "trusted": true,
        "_uuid": "a998f06dbc4dd316f1d85354beb14c113896704d"
      },
      "cell_type": "code",
      "source": "# TF - IDF for training set (headline + description)\ntrain_tfidf = hstack([tfv_word_desc,tfv_word_headline])\n# create dataframe for features\ntfidf_df = pd.DataFrame(train_tfidf.todense())",
      "execution_count": 29,
      "outputs": []
    },
    {
      "metadata": {
        "trusted": true,
        "_uuid": "05cf2bd6f9000b04ff898167ad8a64dc8b4b53b6"
      },
      "cell_type": "code",
      "source": "from sklearn.ensemble import RandomForestClassifier\nfrom sklearn.metrics import accuracy_score, make_scorer\nfrom sklearn.model_selection import cross_val_score,GridSearchCV\n\n# Model imports\nfrom sklearn.svm import LinearSVC\nfrom sklearn.naive_bayes import MultinomialNB\nfrom sklearn.linear_model import LogisticRegressionCV, RidgeClassifierCV\nfrom sklearn.discriminant_analysis import LinearDiscriminantAnalysis\nfrom sklearn.neighbors import KNeighborsClassifier\nfrom sklearn.ensemble import ExtraTreesClassifier\n\nimport xgboost as xgb",
      "execution_count": 30,
      "outputs": []
    },
    {
      "metadata": {
        "trusted": true,
        "_uuid": "50bbb55a49c7e6f8b79a6b19405e068635e232ba"
      },
      "cell_type": "code",
      "source": "model_results = cv_model(features_df, y, \n                         MultinomialNB(), 'GNB', model_results)",
      "execution_count": 31,
      "outputs": [
        {
          "output_type": "stream",
          "text": "3 Fold CV Score: 0.01975 with std: 0.0024\n",
          "name": "stdout"
        }
      ]
    },
    {
      "metadata": {
        "trusted": true,
        "_uuid": "d744499509b1daae96238806f050aeb395855d6e"
      },
      "cell_type": "code",
      "source": "model_results = cv_model(ctv_word_headline.toarray(), y, \n                         MultinomialNB(), 'GNB', model_results)",
      "execution_count": 34,
      "outputs": [
        {
          "output_type": "stream",
          "text": "3 Fold CV Score: 0.42638 with std: 0.02122\n",
          "name": "stdout"
        }
      ]
    },
    {
      "metadata": {
        "trusted": true,
        "_uuid": "9b14ebbde46cf4fe696b5a32a15112aff02c980a"
      },
      "cell_type": "code",
      "source": "model_results = cv_model(ctv_word_desc.toarray(), y, \n                         MultinomialNB(), 'GNB', model_results)",
      "execution_count": 35,
      "outputs": [
        {
          "output_type": "stream",
          "text": "3 Fold CV Score: 0.27851 with std: 0.00021\n",
          "name": "stdout"
        }
      ]
    },
    {
      "metadata": {
        "trusted": true,
        "_uuid": "bf173644a6954f403d8332f26c839b7899c67e85"
      },
      "cell_type": "code",
      "source": "model_results = cv_model(bow_df, y, \n                         MultinomialNB(), 'GNB', model_results)",
      "execution_count": 36,
      "outputs": [
        {
          "output_type": "stream",
          "text": "3 Fold CV Score: 0.42696 with std: 0.02314\n",
          "name": "stdout"
        }
      ]
    },
    {
      "metadata": {
        "trusted": true,
        "_uuid": "7f3f0bdb3d7929482e011171059e6806e8fc0470"
      },
      "cell_type": "code",
      "source": "model_results = cv_model(tfv_word_desc.toarray(), y, \n                         MultinomialNB(), 'GNB', model_results)",
      "execution_count": 37,
      "outputs": [
        {
          "output_type": "stream",
          "text": "3 Fold CV Score: 0.36787 with std: 0.01543\n",
          "name": "stdout"
        }
      ]
    },
    {
      "metadata": {
        "trusted": true,
        "_uuid": "0dced10b55522e9d0164949139d07dc1421ed7c3"
      },
      "cell_type": "code",
      "source": "model_results = cv_model(tfv_word_desc.toarray(), y, \n                         MultinomialNB(), 'GNB', model_results)",
      "execution_count": 38,
      "outputs": [
        {
          "output_type": "stream",
          "text": "3 Fold CV Score: 0.36787 with std: 0.01543\n",
          "name": "stdout"
        }
      ]
    },
    {
      "metadata": {
        "trusted": true,
        "_uuid": "9eeceddb95b9823a2e7e214c7f5038518ab63d1e"
      },
      "cell_type": "code",
      "source": "model_results = cv_model(bow_df, y, \n                         MultinomialNB(), 'GNB', model_results)",
      "execution_count": 39,
      "outputs": [
        {
          "output_type": "stream",
          "text": "3 Fold CV Score: 0.42696 with std: 0.02314\n",
          "name": "stdout"
        }
      ]
    },
    {
      "metadata": {
        "trusted": true,
        "_uuid": "e2cf549038d50f8dd995206e2520524e89a58a09"
      },
      "cell_type": "code",
      "source": "model_results = cv_model(tfidf_df, y, \n                         MultinomialNB(), 'GNB', model_results)",
      "execution_count": 40,
      "outputs": [
        {
          "output_type": "stream",
          "text": "3 Fold CV Score: 0.50269 with std: 0.01086\n",
          "name": "stdout"
        }
      ]
    },
    {
      "metadata": {
        "_uuid": "79bec6655a0be1e80778348db12bd9d7511cfc78"
      },
      "cell_type": "markdown",
      "source": "Yeah, so we achieved **50% accuracy with TF - IDF  combined on description and headline text features**. "
    },
    {
      "metadata": {
        "trusted": true,
        "_uuid": "ba79037c47f02bd3e37cb58369e7e116fabb81c8"
      },
      "cell_type": "code",
      "source": "",
      "execution_count": null,
      "outputs": []
    }
  ],
  "metadata": {
    "kernelspec": {
      "display_name": "Python 3",
      "language": "python",
      "name": "python3"
    },
    "language_info": {
      "name": "python",
      "version": "3.6.6",
      "mimetype": "text/x-python",
      "codemirror_mode": {
        "name": "ipython",
        "version": 3
      },
      "pygments_lexer": "ipython3",
      "nbconvert_exporter": "python",
      "file_extension": ".py"
    }
  },
  "nbformat": 4,
  "nbformat_minor": 1
}