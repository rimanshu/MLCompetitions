{
  "cells": [
    {
      "metadata": {
        "_uuid": "c8ac788c65a6fa5e50da4f7906e4110e396a465b"
      },
      "cell_type": "markdown",
      "source": "Sentiment Analysis using Bag of Words ( words ) + Bag of Words ( character ) + TF-IDF (word+char) + Logistic Regression \n\n*F1 - score of 89% on validation set*"
    },
    {
      "metadata": {
        "trusted": true,
        "_uuid": "3a0cb96058ddc766bcbe39b989c1df5119d97480"
      },
      "cell_type": "code",
      "source": "import numpy as np\nimport pandas as pd\nfrom sklearn.preprocessing import OneHotEncoder\nimport textblob\n\nfrom bs4 import BeautifulSoup\nfrom nltk.corpus import stopwords\nfrom nltk.stem import PorterStemmer\n\nimport re\nimport pickle\nfrom scipy.sparse import hstack\n\nfrom sklearn import preprocessing, decomposition, model_selection, metrics, pipeline\nfrom sklearn.feature_extraction.text import TfidfVectorizer, CountVectorizer\nfrom sklearn.decomposition import TruncatedSVD\nfrom sklearn.linear_model import LogisticRegression\nfrom sklearn.ensemble import RandomForestClassifier\nfrom sklearn.model_selection import train_test_split,cross_val_score\nfrom sklearn.naive_bayes import MultinomialNB\nfrom sklearn.metrics import f1_score, make_scorer,roc_curve, roc_auc_score\n\nimport os\nprint(os.listdir(\"../input/\"))",
      "execution_count": 31,
      "outputs": [
        {
          "output_type": "stream",
          "text": "['testData.tsv', 'sampleSubmission.csv', 'labeledTrainData.tsv', 'unlabeledTrainData.tsv']\n",
          "name": "stdout"
        }
      ]
    },
    {
      "metadata": {
        "trusted": true,
        "_uuid": "0ace910dc728fbac19af8e4bec42007b059d89e2"
      },
      "cell_type": "code",
      "source": "# Load Data\nprint(\"Loading data...\")\ntrain = pd.read_csv('../input/labeledTrainData.tsv', sep=\"\\t\")\nprint(\"Train shape:\", train.shape)\ntest = pd.read_csv('../input/testData.tsv', sep=\"\\t\")\nprint(\"Test shape:\", test.shape)\n\nsample = pd.read_csv('../input/sampleSubmission.csv', sep=\",\")",
      "execution_count": 2,
      "outputs": [
        {
          "output_type": "stream",
          "text": "Loading data...\nTrain shape: (25000, 3)\nTest shape: (25000, 2)\n",
          "name": "stdout"
        }
      ]
    },
    {
      "metadata": {
        "trusted": true,
        "_uuid": "f17b2dc4348349a5e921817c441ffc429598d768"
      },
      "cell_type": "code",
      "source": "train.head()",
      "execution_count": 3,
      "outputs": [
        {
          "output_type": "execute_result",
          "execution_count": 3,
          "data": {
            "text/plain": "       id                        ...                                                                     review\n0  5814_8                        ...                          With all this stuff going down at the moment w...\n1  2381_9                        ...                          \\The Classic War of the Worlds\\\" by Timothy Hi...\n2  7759_3                        ...                          The film starts with a manager (Nicholas Bell)...\n3  3630_4                        ...                          It must be assumed that those who praised this...\n4  9495_8                        ...                          Superbly trashy and wondrously unpretentious 8...\n\n[5 rows x 3 columns]",
            "text/html": "<div>\n<style scoped>\n    .dataframe tbody tr th:only-of-type {\n        vertical-align: middle;\n    }\n\n    .dataframe tbody tr th {\n        vertical-align: top;\n    }\n\n    .dataframe thead th {\n        text-align: right;\n    }\n</style>\n<table border=\"1\" class=\"dataframe\">\n  <thead>\n    <tr style=\"text-align: right;\">\n      <th></th>\n      <th>id</th>\n      <th>sentiment</th>\n      <th>review</th>\n    </tr>\n  </thead>\n  <tbody>\n    <tr>\n      <th>0</th>\n      <td>5814_8</td>\n      <td>1</td>\n      <td>With all this stuff going down at the moment w...</td>\n    </tr>\n    <tr>\n      <th>1</th>\n      <td>2381_9</td>\n      <td>1</td>\n      <td>\\The Classic War of the Worlds\\\" by Timothy Hi...</td>\n    </tr>\n    <tr>\n      <th>2</th>\n      <td>7759_3</td>\n      <td>0</td>\n      <td>The film starts with a manager (Nicholas Bell)...</td>\n    </tr>\n    <tr>\n      <th>3</th>\n      <td>3630_4</td>\n      <td>0</td>\n      <td>It must be assumed that those who praised this...</td>\n    </tr>\n    <tr>\n      <th>4</th>\n      <td>9495_8</td>\n      <td>1</td>\n      <td>Superbly trashy and wondrously unpretentious 8...</td>\n    </tr>\n  </tbody>\n</table>\n</div>"
          },
          "metadata": {}
        }
      ]
    },
    {
      "metadata": {
        "trusted": true,
        "_uuid": "549e311e5e37405ea75801f49eeb016193f5083c"
      },
      "cell_type": "code",
      "source": "sample.head()",
      "execution_count": 4,
      "outputs": [
        {
          "output_type": "execute_result",
          "execution_count": 4,
          "data": {
            "text/plain": "         id  sentiment\n0  12311_10          0\n1    8348_2          0\n2    5828_4          0\n3    7186_2          0\n4   12128_7          0",
            "text/html": "<div>\n<style scoped>\n    .dataframe tbody tr th:only-of-type {\n        vertical-align: middle;\n    }\n\n    .dataframe tbody tr th {\n        vertical-align: top;\n    }\n\n    .dataframe thead th {\n        text-align: right;\n    }\n</style>\n<table border=\"1\" class=\"dataframe\">\n  <thead>\n    <tr style=\"text-align: right;\">\n      <th></th>\n      <th>id</th>\n      <th>sentiment</th>\n    </tr>\n  </thead>\n  <tbody>\n    <tr>\n      <th>0</th>\n      <td>12311_10</td>\n      <td>0</td>\n    </tr>\n    <tr>\n      <th>1</th>\n      <td>8348_2</td>\n      <td>0</td>\n    </tr>\n    <tr>\n      <th>2</th>\n      <td>5828_4</td>\n      <td>0</td>\n    </tr>\n    <tr>\n      <th>3</th>\n      <td>7186_2</td>\n      <td>0</td>\n    </tr>\n    <tr>\n      <th>4</th>\n      <td>12128_7</td>\n      <td>0</td>\n    </tr>\n  </tbody>\n</table>\n</div>"
          },
          "metadata": {}
        }
      ]
    },
    {
      "metadata": {
        "trusted": true,
        "_uuid": "0fbb5a9efaf2566001832e727f119973a2379167"
      },
      "cell_type": "code",
      "source": "train['sentiment'].value_counts() # balanced dataset",
      "execution_count": 5,
      "outputs": [
        {
          "output_type": "execute_result",
          "execution_count": 5,
          "data": {
            "text/plain": "1    12500\n0    12500\nName: sentiment, dtype: int64"
          },
          "metadata": {}
        }
      ]
    },
    {
      "metadata": {
        "trusted": true,
        "_uuid": "e856d084e469d955d9c27d99fb966d0cf2b0fbe3"
      },
      "cell_type": "code",
      "source": "# Check the first review\nprint('The first review is:\\n\\n',train[\"review\"][0])",
      "execution_count": 6,
      "outputs": [
        {
          "output_type": "stream",
          "text": "The first review is:\n\n With all this stuff going down at the moment with MJ i've started listening to his music, watching the odd documentary here and there, watched The Wiz and watched Moonwalker again. Maybe i just want to get a certain insight into this guy who i thought was really cool in the eighties just to maybe make up my mind whether he is guilty or innocent. Moonwalker is part biography, part feature film which i remember going to see at the cinema when it was originally released. Some of it has subtle messages about MJ's feeling towards the press and also the obvious message of drugs are bad m'kay.<br /><br />Visually impressive but of course this is all about Michael Jackson so unless you remotely like MJ in anyway then you are going to hate this and find it boring. Some may call MJ an egotist for consenting to the making of this movie BUT MJ and most of his fans would say that he made it for the fans which if true is really nice of him.<br /><br />The actual feature film bit when it finally starts is only on for 20 minutes or so excluding the Smooth Criminal sequence and Joe Pesci is convincing as a psychopathic all powerful drug lord. Why he wants MJ dead so bad is beyond me. Because MJ overheard his plans? Nah, Joe Pesci's character ranted that he wanted people to know it is he who is supplying drugs etc so i dunno, maybe he just hates MJ's music.<br /><br />Lots of cool things in this like MJ turning into a car and a robot and the whole Speed Demon sequence. Also, the director must have had the patience of a saint when it came to filming the kiddy Bad sequence as usually directors hate working with one kid let alone a whole bunch of them performing a complex dance scene.<br /><br />Bottom line, this movie is for people who like MJ on one level or another (which i think is most people). If not, then stay away. It does try and give off a wholesome message and ironically MJ's bestest buddy in this movie is a girl! Michael Jackson is truly one of the most talented people ever to grace this planet but is he guilty? Well, with all the attention i've gave this subject....hmmm well i don't know because people can be different behind closed doors, i know this for a fact. He is either an extremely nice but stupid guy or one of the most sickest liars. I hope he is not the latter.\n",
          "name": "stdout"
        }
      ]
    },
    {
      "metadata": {
        "trusted": true,
        "_uuid": "a6d99b4dcef76264bbe96771049af24ce5a6d81a"
      },
      "cell_type": "code",
      "source": "# all the words in the test set that also occurs in the train set\nfrom sklearn.feature_extraction.text import CountVectorizer\n\ncv1 = CountVectorizer()\ncv1.fit(train[\"review\"])\n\ncv2 = CountVectorizer()\ncv2.fit(test[\"review\"])\n\nprint(\"Train Set Vocabulary Size:\", len(cv1.vocabulary_))\nprint(\"Test Set Vocabulary Size:\", len(cv2.vocabulary_))\nprint(\"Number of Words that occur in both:\", len(set(cv1.vocabulary_.keys()).intersection(set(cv2.vocabulary_.keys()))))",
      "execution_count": 7,
      "outputs": [
        {
          "output_type": "stream",
          "text": "Train Set Vocabulary Size: 74849\nTest Set Vocabulary Size: 73822\nNumber of Words that occur in both: 46776\n",
          "name": "stdout"
        }
      ]
    },
    {
      "metadata": {
        "trusted": true,
        "_uuid": "f0f35b135bf0e499e52e22c7bf7ad478708d3460"
      },
      "cell_type": "code",
      "source": "# clean description\nprint(\"Cleaning train data...\\n\")\ntrain['review'] = train['review'].map(lambda x: BeautifulSoup(x).get_text())\nprint(\"Cleaning test data...\")\ntest['review'] = test['review'].map(lambda x: BeautifulSoup(x).get_text())",
      "execution_count": 8,
      "outputs": [
        {
          "output_type": "stream",
          "text": "Cleaning train data...\n\nCleaning test data...\n",
          "name": "stdout"
        }
      ]
    },
    {
      "metadata": {
        "trusted": true,
        "_uuid": "0b10bfc46dce080c9a182ca160d0a9d7494f0781"
      },
      "cell_type": "code",
      "source": "# function to clean data\n\nstops = set(stopwords.words(\"english\"))\ndef cleanData(text, lowercase = False, remove_stops = False, stemming = False):\n    txt = str(text)\n    txt = re.sub(r'[^A-Za-z0-9\\s]',r'',txt)\n    txt = re.sub(r'\\n',r' ',txt)\n    \n    if lowercase:\n        txt = \" \".join([w.lower() for w in txt.split()])\n        \n    if remove_stops:\n        txt = \" \".join([w for w in txt.split() if w not in stops])\n    \n    if stemming:\n        st = PorterStemmer()\n        txt = \" \".join([st.stem(w) for w in txt.split()])\n\n    return txt",
      "execution_count": 9,
      "outputs": []
    },
    {
      "metadata": {
        "trusted": true,
        "_uuid": "db640a90f6a15400a801dd4e366e876aca49c8f1"
      },
      "cell_type": "code",
      "source": "# clean description\ntrain['review'] = train['review'].map(lambda x: cleanData(x, lowercase=True, remove_stops=True, stemming=True))\ntest['review'] = test['review'].map(lambda x: cleanData(x, lowercase=True, remove_stops=True, stemming=True))",
      "execution_count": 10,
      "outputs": []
    },
    {
      "metadata": {
        "trusted": true,
        "_uuid": "5e795d86500be33f416c5e1cbe1d8684466c8d6b"
      },
      "cell_type": "code",
      "source": "y = train['sentiment']",
      "execution_count": 11,
      "outputs": []
    },
    {
      "metadata": {
        "trusted": true,
        "_uuid": "fafbc55b9b4fbde09fb134cad4c18dce99e0b024"
      },
      "cell_type": "code",
      "source": "# Bag of Words (word based)\nctv_word = CountVectorizer(analyzer='word',token_pattern=r'\\w{1,}',min_df = 200, max_features=5000,\n            ngram_range=(1,2), stop_words = 'english')\n\n# Fitting CountVectorizer to both training and test sets\nctv_word.fit(list(train['review']) + list(test['review']))\ntrain_ctv_word =  ctv_word.transform(train['review']) \ntest_ctv_word = ctv_word.transform(test['review'])",
      "execution_count": 12,
      "outputs": []
    },
    {
      "metadata": {
        "trusted": true,
        "_uuid": "3677e81ac4446eea554f50cac2bcc14efd3a9117"
      },
      "cell_type": "code",
      "source": "# Bag of words (charater based)\nctv_char = TfidfVectorizer(sublinear_tf=True, strip_accents='unicode',analyzer='char',\n    stop_words='english', ngram_range=(2, 6), max_features=10000)\n\n# Fitting CountVectorizer to both training and test sets\nctv_char.fit(list(train['review']) + list(test['review']))\ntrain_ctv_char =  ctv_char.transform(train['review']) \ntest_ctv_char = ctv_char.transform(test['review'])",
      "execution_count": 13,
      "outputs": []
    },
    {
      "metadata": {
        "trusted": true,
        "_uuid": "1cde005abfb17a1c36eed120df05ffb08c3a4b83"
      },
      "cell_type": "code",
      "source": "# TF - IDF (words)\n\ntfv_word = TfidfVectorizer(min_df=150,  max_features= 5000, \n            strip_accents='unicode', analyzer='word',token_pattern=r'\\w{1,}',\n            ngram_range=(1,2),\n            stop_words = 'english')\n\n# Fitting TF-IDF to both training and test sets (semi-supervised learning)\ntfv_word.fit(list(train['review']) + list(test['review']))\ntrain_tfv_word =  tfv_word.transform(train['review'])\ntest_tfv_word = tfv_word.transform(test['review'])",
      "execution_count": 14,
      "outputs": []
    },
    {
      "metadata": {
        "trusted": true,
        "_uuid": "36151b089154d044f93d508033743b9f2719ae93"
      },
      "cell_type": "code",
      "source": "# TF-IDF(char)\n\ntfv_char = TfidfVectorizer(sublinear_tf=True,strip_accents='unicode',analyzer='char',\n    stop_words='english',ngram_range=(2, 6),max_features=10000)\ntfv_char.fit(list(train['review']) + list(test['review']))\ntrain_tfv_char = tfv_char.transform(train['review'])\ntest_tfv_char = tfv_char.transform(test['review'])",
      "execution_count": 15,
      "outputs": []
    },
    {
      "metadata": {
        "trusted": true,
        "_uuid": "d739d6b9f2dfedc8c88915a078a21e6bb3425f0a"
      },
      "cell_type": "code",
      "source": "# bag of words for training set (words + char)\ntrain_bow = hstack([train_ctv_word, train_ctv_char])\ntest_bow = hstack([test_ctv_word, test_ctv_char])\n\n# TF-IDF for test set (words + char)\ntrain_tfidf = hstack([train_tfv_word, train_tfv_char])\ntest_tfidf = hstack([test_tfv_word, test_tfv_char])",
      "execution_count": 16,
      "outputs": []
    },
    {
      "metadata": {
        "trusted": true,
        "scrolled": false,
        "_uuid": "61dccdd55b85069d336474207282d25c67387989"
      },
      "cell_type": "code",
      "source": "# let's check cross validation score of the model\n# cv score acts a unbiased estimate of models accuracy on unseen data\n\nmod1 = MultinomialNB()",
      "execution_count": 17,
      "outputs": []
    },
    {
      "metadata": {
        "trusted": true,
        "_uuid": "42610c1c2aff7f6e78b4776df749a063b18bef9b"
      },
      "cell_type": "code",
      "source": "print(cross_val_score(mod1, train_bow, y, cv=3, scoring=make_scorer(f1_score)))",
      "execution_count": 18,
      "outputs": [
        {
          "output_type": "stream",
          "text": "[0.83948864 0.84285029 0.84180387]\n",
          "name": "stdout"
        }
      ]
    },
    {
      "metadata": {
        "trusted": true,
        "_uuid": "6495e2f6be0a5e7fa3139b89329a2204d989d8a6"
      },
      "cell_type": "code",
      "source": "## Naive Bayes 2 - tfidf is giving higher CV score\nprint(cross_val_score(mod1, train_tfidf, y, cv=3, scoring=make_scorer(f1_score)))",
      "execution_count": 19,
      "outputs": [
        {
          "output_type": "stream",
          "text": "[0.84241359 0.84772296 0.85149218]\n",
          "name": "stdout"
        }
      ]
    },
    {
      "metadata": {
        "trusted": true,
        "_uuid": "828f60abb0c1fd777c418d2c8b79c9cec486e16f"
      },
      "cell_type": "code",
      "source": "clf_lr = LogisticRegression() # Logistic Regression Model",
      "execution_count": 51,
      "outputs": []
    },
    {
      "metadata": {
        "trusted": true,
        "_uuid": "e00c63bb0cd7b0c9bfad6058aae39bd1b5a9fa41"
      },
      "cell_type": "code",
      "source": "## 5-fold cross validation\nprint(cross_val_score(clf_lr, train_tfidf, y, cv=5, scoring=make_scorer(f1_score)))",
      "execution_count": 41,
      "outputs": [
        {
          "output_type": "stream",
          "text": "/opt/conda/lib/python3.6/site-packages/sklearn/linear_model/logistic.py:432: FutureWarning: Default solver will be changed to 'lbfgs' in 0.22. Specify a solver to silence this warning.\n  FutureWarning)\n",
          "name": "stderr"
        },
        {
          "output_type": "stream",
          "text": "[0.88523941 0.88779914 0.87996804 0.88554455 0.87939599]\n",
          "name": "stdout"
        }
      ]
    },
    {
      "metadata": {
        "trusted": true,
        "_uuid": "296cd754c3f089b49b9d06d6b63cb921e30e6617"
      },
      "cell_type": "code",
      "source": "clf_lr.fit(train_tfidf,y)\n\n# Make predictions on test data\npreds = clf_lr.predict(test_tfidf)",
      "execution_count": 52,
      "outputs": [
        {
          "output_type": "stream",
          "text": "/opt/conda/lib/python3.6/site-packages/sklearn/linear_model/logistic.py:432: FutureWarning: Default solver will be changed to 'lbfgs' in 0.22. Specify a solver to silence this warning.\n  FutureWarning)\n",
          "name": "stderr"
        }
      ]
    },
    {
      "metadata": {
        "trusted": true,
        "_uuid": "82b4d44cb9853060cb0d8fefa8d51346e48c1c5d"
      },
      "cell_type": "code",
      "source": "# Make submission\n\nsample['sentiment'] = preds\nsample.to_csv(\"sub_lr.csv\")",
      "execution_count": 53,
      "outputs": []
    }
  ],
  "metadata": {
    "kernelspec": {
      "display_name": "Python 3",
      "language": "python",
      "name": "python3"
    },
    "language_info": {
      "name": "python",
      "version": "3.6.6",
      "mimetype": "text/x-python",
      "codemirror_mode": {
        "name": "ipython",
        "version": 3
      },
      "pygments_lexer": "ipython3",
      "nbconvert_exporter": "python",
      "file_extension": ".py"
    }
  },
  "nbformat": 4,
  "nbformat_minor": 1
}